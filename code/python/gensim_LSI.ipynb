{
 "cells": [
  {
   "cell_type": "code",
   "execution_count": 15,
   "metadata": {},
   "outputs": [],
   "source": [
    "import spacy\n",
    "spacy.load('en')\n",
    "import matplotlib.pyplot as plt\n",
    "import pandas as pd\n",
    "import sqlite3\n",
    "\n",
    "from spacy.lang.en import English\n",
    "%matplotlib inline"
   ]
  },
  {
   "cell_type": "code",
   "execution_count": 6,
   "metadata": {},
   "outputs": [],
   "source": [
    "parser = English()\n",
    "def tokenize(text):\n",
    "    lda_tokens = []\n",
    "    tokens = parser(text)\n",
    "    for token in tokens:\n",
    "        if token.orth_.isspace():\n",
    "            continue\n",
    "        elif token.like_url:\n",
    "            lda_tokens.append('URL')\n",
    "        elif token.orth_.startswith('@'):\n",
    "            lda_tokens.append('SCREEN_NAME')\n",
    "        else:\n",
    "            lda_tokens.append(token.lower_)\n",
    "    return lda_tokens"
   ]
  },
  {
   "cell_type": "code",
   "execution_count": 9,
   "metadata": {},
   "outputs": [
    {
     "name": "stderr",
     "output_type": "stream",
     "text": [
      "[nltk_data] Downloading package wordnet to\n",
      "[nltk_data]     /home/apcloud44/nltk_data...\n",
      "[nltk_data]   Package wordnet is already up-to-date!\n"
     ]
    }
   ],
   "source": [
    "import nltk\n",
    "nltk.download('wordnet')\n",
    "from nltk.corpus import wordnet as wn\n",
    "def get_lemma(word):\n",
    "    lemma = wn.morphy(word)\n",
    "    if lemma is None:\n",
    "        return word\n",
    "    else:\n",
    "        return lemma\n",
    "    "
   ]
  },
  {
   "cell_type": "code",
   "execution_count": 10,
   "metadata": {},
   "outputs": [],
   "source": [
    "from nltk.stem.wordnet import WordNetLemmatizer\n",
    "def get_lemma2(word):\n",
    "    return WordNetLemmatizer().lemmatize(word)"
   ]
  },
  {
   "cell_type": "code",
   "execution_count": 11,
   "metadata": {},
   "outputs": [
    {
     "name": "stderr",
     "output_type": "stream",
     "text": [
      "[nltk_data] Downloading package stopwords to\n",
      "[nltk_data]     /home/apcloud44/nltk_data...\n",
      "[nltk_data]   Unzipping corpora/stopwords.zip.\n"
     ]
    }
   ],
   "source": [
    "nltk.download('stopwords')\n",
    "en_stop = set(nltk.corpus.stopwords.words('english'))"
   ]
  },
  {
   "cell_type": "code",
   "execution_count": 12,
   "metadata": {},
   "outputs": [],
   "source": [
    "def prepare_text_for_lda(text):\n",
    "    tokens = tokenize(text)\n",
    "    tokens = [token for token in tokens if len(token) > 4]\n",
    "    tokens = [token for token in tokens if token not in en_stop]\n",
    "    tokens = [get_lemma(token) for token in tokens]\n",
    "    return tokens"
   ]
  },
  {
   "cell_type": "code",
   "execution_count": 16,
   "metadata": {},
   "outputs": [],
   "source": [
    "conn = sqlite3.connect(\"../../data/twitter.db\")\n",
    "df_bitcoin = pd.read_sql_query('select TweetText from bitcoin where DateTime > \"2018-03-03\" and DateTime < \"2018-05-03\" and Language=\"en\"', conn)\n",
    "#df_eth = pd.read_sql_query('select TweetText from eth where DateTime > \"2018-03-03\" and DateTime < \"2018-05-03\" ', conn)\n",
    "#df_facebook = pd.read_sql_query('select TweetText from facebook where DateTime > \"2018-03-03\" and DateTime < \"2018-05-03\" ', conn)\n",
    "df_all = df_bitcoin #pd.concat([df_bitcoin, df_eth, df_facebook], sort=False)"
   ]
  },
  {
   "cell_type": "code",
   "execution_count": 30,
   "metadata": {},
   "outputs": [
    {
     "name": "stdout",
     "output_type": "stream",
     "text": [
      "['1024384316128808960,1024384316128808960,864932553697964032,dailycoinfeed,0,2018', '16:00,top', 'cryptocurrencies', 'alert', '23:00:27', 'bitcoin', '7;785.645', 'ethereum', '436.044', '0.436', 'bitcoincash', '781.860', '7.325', 'ripplenews', 'trading', 'steem,0,0,0,,#cryptocurrencies', 'bitcoin', 'ethereum', 'bitcoincash', 'ripplenews', 'trading', 'steem,/dailycoinfeed', 'status/1024384316128808960,,0,0,0']\n",
      "['1024384316128808960,1024384316128808960,864932553697964032,dailycoinfeed,0,2018', '16:00,top', 'cryptocurrencies', 'alert', '23:00:27', 'bitcoin', '7;785.645', 'ethereum', '436.044', '0.436', 'bitcoincash', '781.860', '7.325', 'ripplenews', 'trading', 'steem,0,0,0,,#cryptocurrencies', 'bitcoin', 'ethereum', 'bitcoincash', 'ripplenews', 'trading', 'steem,/dailycoinfeed', 'status/1024384316128808960,,0,0,0']\n",
      "['1024384316128808960,1024384316128808960,864932553697964032,dailycoinfeed,0,2018', '16:00,top', 'cryptocurrencies', 'alert', '23:00:27', 'bitcoin', '7;785.645', 'ethereum', '436.044', '0.436', 'bitcoincash', '781.860', '7.325', 'ripplenews', 'trading', 'steem,0,0,0,,#cryptocurrencies', 'bitcoin', 'ethereum', 'bitcoincash', 'ripplenews', 'trading', 'steem,/dailycoinfeed', 'status/1024384316128808960,,0,0,0']\n",
      "['1024384316128808960,1024384316128808960,864932553697964032,dailycoinfeed,0,2018', '16:00,top', 'cryptocurrencies', 'alert', '23:00:27', 'bitcoin', '7;785.645', 'ethereum', '436.044', '0.436', 'bitcoincash', '781.860', '7.325', 'ripplenews', 'trading', 'steem,0,0,0,,#cryptocurrencies', 'bitcoin', 'ethereum', 'bitcoincash', 'ripplenews', 'trading', 'steem,/dailycoinfeed', 'status/1024384316128808960,,0,0,0']\n",
      "['1024384316128808960,1024384316128808960,864932553697964032,dailycoinfeed,0,2018', '16:00,top', 'cryptocurrencies', 'alert', '23:00:27', 'bitcoin', '7;785.645', 'ethereum', '436.044', '0.436', 'bitcoincash', '781.860', '7.325', 'ripplenews', 'trading', 'steem,0,0,0,,#cryptocurrencies', 'bitcoin', 'ethereum', 'bitcoincash', 'ripplenews', 'trading', 'steem,/dailycoinfeed', 'status/1024384316128808960,,0,0,0']\n",
      "['1024384316128808960,1024384316128808960,864932553697964032,dailycoinfeed,0,2018', '16:00,top', 'cryptocurrencies', 'alert', '23:00:27', 'bitcoin', '7;785.645', 'ethereum', '436.044', '0.436', 'bitcoincash', '781.860', '7.325', 'ripplenews', 'trading', 'steem,0,0,0,,#cryptocurrencies', 'bitcoin', 'ethereum', 'bitcoincash', 'ripplenews', 'trading', 'steem,/dailycoinfeed', 'status/1024384316128808960,,0,0,0']\n",
      "['1024384316128808960,1024384316128808960,864932553697964032,dailycoinfeed,0,2018', '16:00,top', 'cryptocurrencies', 'alert', '23:00:27', 'bitcoin', '7;785.645', 'ethereum', '436.044', '0.436', 'bitcoincash', '781.860', '7.325', 'ripplenews', 'trading', 'steem,0,0,0,,#cryptocurrencies', 'bitcoin', 'ethereum', 'bitcoincash', 'ripplenews', 'trading', 'steem,/dailycoinfeed', 'status/1024384316128808960,,0,0,0']\n",
      "['1024384316128808960,1024384316128808960,864932553697964032,dailycoinfeed,0,2018', '16:00,top', 'cryptocurrencies', 'alert', '23:00:27', 'bitcoin', '7;785.645', 'ethereum', '436.044', '0.436', 'bitcoincash', '781.860', '7.325', 'ripplenews', 'trading', 'steem,0,0,0,,#cryptocurrencies', 'bitcoin', 'ethereum', 'bitcoincash', 'ripplenews', 'trading', 'steem,/dailycoinfeed', 'status/1024384316128808960,,0,0,0']\n",
      "['1024384316128808960,1024384316128808960,864932553697964032,dailycoinfeed,0,2018', '16:00,top', 'cryptocurrencies', 'alert', '23:00:27', 'bitcoin', '7;785.645', 'ethereum', '436.044', '0.436', 'bitcoincash', '781.860', '7.325', 'ripplenews', 'trading', 'steem,0,0,0,,#cryptocurrencies', 'bitcoin', 'ethereum', 'bitcoincash', 'ripplenews', 'trading', 'steem,/dailycoinfeed', 'status/1024384316128808960,,0,0,0']\n",
      "['1024384316128808960,1024384316128808960,864932553697964032,dailycoinfeed,0,2018', '16:00,top', 'cryptocurrencies', 'alert', '23:00:27', 'bitcoin', '7;785.645', 'ethereum', '436.044', '0.436', 'bitcoincash', '781.860', '7.325', 'ripplenews', 'trading', 'steem,0,0,0,,#cryptocurrencies', 'bitcoin', 'ethereum', 'bitcoincash', 'ripplenews', 'trading', 'steem,/dailycoinfeed', 'status/1024384316128808960,,0,0,0']\n"
     ]
    }
   ],
   "source": [
    "text_data = []\n",
    "for row in df_all.iloc[:10,0]:\n",
    "    tokens = prepare_text_for_lda(line)\n",
    "    print(tokens)\n",
    "    text_data.append(tokens)"
   ]
  },
  {
   "cell_type": "code",
   "execution_count": 31,
   "metadata": {},
   "outputs": [],
   "source": [
    "from gensim import corpora\n",
    "dictionary = corpora.Dictionary(text_data)\n",
    "corpus = [dictionary.doc2bow(text) for text in text_data]"
   ]
  },
  {
   "cell_type": "code",
   "execution_count": 36,
   "metadata": {},
   "outputs": [],
   "source": [
    "import pickle\n",
    "pickle.dump(corpus, open('../../data/corpus.pkl', 'wb'))\n",
    "dictionary.save('../../data/dictionary.gensim.all')"
   ]
  },
  {
   "cell_type": "code",
   "execution_count": 37,
   "metadata": {},
   "outputs": [
    {
     "name": "stdout",
     "output_type": "stream",
     "text": [
      "(0, '0.056*\"ripplenews\" + 0.056*\"bitcoincash\" + 0.056*\"bitcoin\" + 0.056*\"trading\"')\n",
      "(1, '0.086*\"bitcoincash\" + 0.086*\"trading\" + 0.086*\"ripplenews\" + 0.086*\"ethereum\"')\n",
      "(2, '0.057*\"bitcoin\" + 0.057*\"ethereum\" + 0.057*\"ripplenews\" + 0.057*\"trading\"')\n",
      "(3, '0.056*\"bitcoin\" + 0.056*\"ethereum\" + 0.056*\"ripplenews\" + 0.056*\"trading\"')\n",
      "(4, '0.056*\"ripplenews\" + 0.056*\"bitcoin\" + 0.056*\"ethereum\" + 0.056*\"trading\"')\n"
     ]
    }
   ],
   "source": [
    "import gensim\n",
    "NUM_TOPICS = 5\n",
    "ldamodel = gensim.models.ldamodel.LdaModel(corpus, num_topics = NUM_TOPICS, id2word=dictionary, passes=15)\n",
    "ldamodel.save('../../data/model_lsi.gensim')\n",
    "topics = ldamodel.print_topics(num_words=4)\n",
    "for topic in topics:\n",
    "    print(topic)"
   ]
  },
  {
   "cell_type": "code",
   "execution_count": 38,
   "metadata": {},
   "outputs": [],
   "source": [
    "dictionary = gensim.corpora.Dictionary.load('../../data/dictionary.gensim.all')\n",
    "corpus = pickle.load(open('../../data/corpus.pkl', 'rb'))\n",
    "lda = gensim.models.ldamodel.LdaModel.load('../../data/model_lsi.gensim')"
   ]
  },
  {
   "cell_type": "code",
   "execution_count": 39,
   "metadata": {},
   "outputs": [
    {
     "name": "stderr",
     "output_type": "stream",
     "text": [
      "/home/apcloud44/miniconda3/envs/p3/lib/python3.6/site-packages/pyLDAvis/_prepare.py:257: FutureWarning: Sorting because non-concatenation axis is not aligned. A future version\n",
      "of pandas will change to not sort by default.\n",
      "\n",
      "To accept the future behavior, pass 'sort=False'.\n",
      "\n",
      "To retain the current behavior and silence the warning, pass 'sort=True'.\n",
      "\n",
      "  return pd.concat([default_term_info] + list(topic_dfs))\n"
     ]
    },
    {
     "data": {
      "text/html": [
       "\n",
       "<link rel=\"stylesheet\" type=\"text/css\" href=\"https://cdn.rawgit.com/bmabey/pyLDAvis/files/ldavis.v1.0.0.css\">\n",
       "\n",
       "\n",
       "<div id=\"ldavis_el45491398765700560488366439864\"></div>\n",
       "<script type=\"text/javascript\">\n",
       "\n",
       "var ldavis_el45491398765700560488366439864_data = {\"mdsDat\": {\"x\": [0.0027160531962712, -0.010184134372620827, 0.0016629805181487818, 0.0028629540531277644, 0.002942146605073083], \"y\": [-0.0, -0.0, 0.0, 0.0, -0.0], \"topics\": [1, 2, 3, 4, 5], \"cluster\": [1, 1, 1, 1, 1], \"Freq\": [0.8340061902999878, 96.66388702392578, 0.8341332674026489, 0.8339917063713074, 0.8339847326278687]}, \"tinfo\": {\"Category\": [\"Default\", \"Default\", \"Default\", \"Default\", \"Default\", \"Default\", \"Default\", \"Default\", \"Default\", \"Default\", \"Default\", \"Default\", \"Default\", \"Default\", \"Default\", \"Default\", \"Default\", \"Default\", \"Topic1\", \"Topic1\", \"Topic1\", \"Topic1\", \"Topic1\", \"Topic1\", \"Topic1\", \"Topic1\", \"Topic1\", \"Topic1\", \"Topic1\", \"Topic1\", \"Topic1\", \"Topic1\", \"Topic1\", \"Topic1\", \"Topic1\", \"Topic1\", \"Topic2\", \"Topic2\", \"Topic2\", \"Topic2\", \"Topic2\", \"Topic2\", \"Topic2\", \"Topic2\", \"Topic2\", \"Topic2\", \"Topic2\", \"Topic2\", \"Topic2\", \"Topic2\", \"Topic2\", \"Topic2\", \"Topic2\", \"Topic2\", \"Topic3\", \"Topic3\", \"Topic3\", \"Topic3\", \"Topic3\", \"Topic3\", \"Topic3\", \"Topic3\", \"Topic3\", \"Topic3\", \"Topic3\", \"Topic3\", \"Topic3\", \"Topic3\", \"Topic3\", \"Topic3\", \"Topic3\", \"Topic3\", \"Topic4\", \"Topic4\", \"Topic4\", \"Topic4\", \"Topic4\", \"Topic4\", \"Topic4\", \"Topic4\", \"Topic4\", \"Topic4\", \"Topic4\", \"Topic4\", \"Topic4\", \"Topic4\", \"Topic4\", \"Topic4\", \"Topic4\", \"Topic4\", \"Topic5\", \"Topic5\", \"Topic5\", \"Topic5\", \"Topic5\", \"Topic5\", \"Topic5\", \"Topic5\", \"Topic5\", \"Topic5\", \"Topic5\", \"Topic5\", \"Topic5\", \"Topic5\", \"Topic5\", \"Topic5\", \"Topic5\", \"Topic5\"], \"Freq\": [19.0, 19.0, 19.0, 19.0, 19.0, 10.0, 10.0, 10.0, 10.0, 10.0, 10.0, 10.0, 10.0, 10.0, 10.0, 10.0, 10.0, 10.0, 0.10646874457597733, 0.10644201934337616, 0.10643531382083893, 0.1064097210764885, 0.10639477521181107, 0.1063758134841919, 0.10637728124856949, 0.10637756437063217, 0.10636580735445023, 0.10635562986135483, 0.10633755475282669, 0.1063341498374939, 0.10630045086145401, 0.10714952647686005, 0.10706847906112671, 0.10701137036085129, 0.10701128840446472, 0.10699886828660965, 19.228595733642578, 19.225688934326172, 19.224821090698242, 19.223979949951172, 19.223461151123047, 9.708245277404785, 9.70824909210205, 9.708189964294434, 9.708081245422363, 9.707904815673828, 9.707892417907715, 9.70780086517334, 9.70780086517334, 9.70756721496582, 9.70745849609375, 9.707393646240234, 9.70698070526123, 9.706847190856934, 0.10593858361244202, 0.10584843903779984, 0.10575901716947556, 0.10554811358451843, 0.10549499839544296, 0.10539697855710983, 0.10537955909967422, 0.10536229610443115, 0.1053546667098999, 0.10530132055282593, 0.10527680069208145, 0.10520221292972565, 0.10516953468322754, 0.11024373024702072, 0.11022794991731644, 0.10963836312294006, 0.10944672673940659, 0.1079174056649208, 0.10654674470424652, 0.1065334901213646, 0.10653452575206757, 0.1065199077129364, 0.10651926696300507, 0.10651332139968872, 0.106501005589962, 0.10649895668029785, 0.10649685561656952, 0.10649428516626358, 0.10646985471248627, 0.10645828396081924, 0.10642734169960022, 0.10701481252908707, 0.10675486922264099, 0.10675234347581863, 0.10660934448242188, 0.1065358966588974, 0.10656420886516571, 0.10656401515007019, 0.10656487196683884, 0.10656411200761795, 0.10656415671110153, 0.10656484961509705, 0.10656420886516571, 0.10656414180994034, 0.10656415671110153, 0.1065644845366478, 0.10656452178955078, 0.1065647080540657, 0.10656331479549408, 0.10656623542308807, 0.1065659299492836, 0.10656751692295074, 0.1065652072429657, 0.10656443983316422], \"Term\": [\"bitcoin\", \"ethereum\", \"ripplenews\", \"trading\", \"bitcoincash\", \"status/1024384316128808960,,0,0,0\", \"steem,0,0,0,,#cryptocurrencies\", \"1024384316128808960,1024384316128808960,864932553697964032,dailycoinfeed,0,2018\", \"steem,/dailycoinfeed\", \"436.044\", \"781.860\", \"cryptocurrencies\", \"7.325\", \"alert\", \"7;785.645\", \"16:00,top\", \"23:00:27\", \"0.436\", \"436.044\", \"781.860\", \"16:00,top\", \"steem,/dailycoinfeed\", \"7.325\", \"steem,0,0,0,,#cryptocurrencies\", \"cryptocurrencies\", \"alert\", \"23:00:27\", \"status/1024384316128808960,,0,0,0\", \"0.436\", \"7;785.645\", \"1024384316128808960,1024384316128808960,864932553697964032,dailycoinfeed,0,2018\", \"ripplenews\", \"bitcoincash\", \"bitcoin\", \"trading\", \"ethereum\", \"bitcoincash\", \"trading\", \"ripplenews\", \"ethereum\", \"bitcoin\", \"0.436\", \"23:00:27\", \"16:00,top\", \"7;785.645\", \"alert\", \"7.325\", \"cryptocurrencies\", \"781.860\", \"436.044\", \"steem,/dailycoinfeed\", \"1024384316128808960,1024384316128808960,864932553697964032,dailycoinfeed,0,2018\", \"steem,0,0,0,,#cryptocurrencies\", \"status/1024384316128808960,,0,0,0\", \"status/1024384316128808960,,0,0,0\", \"steem,0,0,0,,#cryptocurrencies\", \"1024384316128808960,1024384316128808960,864932553697964032,dailycoinfeed,0,2018\", \"steem,/dailycoinfeed\", \"436.044\", \"cryptocurrencies\", \"alert\", \"7.325\", \"781.860\", \"0.436\", \"7;785.645\", \"23:00:27\", \"16:00,top\", \"bitcoin\", \"ethereum\", \"ripplenews\", \"trading\", \"bitcoincash\", \"7;785.645\", \"steem,/dailycoinfeed\", \"cryptocurrencies\", \"status/1024384316128808960,,0,0,0\", \"steem,0,0,0,,#cryptocurrencies\", \"781.860\", \"7.325\", \"23:00:27\", \"16:00,top\", \"alert\", \"436.044\", \"1024384316128808960,1024384316128808960,864932553697964032,dailycoinfeed,0,2018\", \"0.436\", \"bitcoin\", \"ethereum\", \"ripplenews\", \"trading\", \"bitcoincash\", \"status/1024384316128808960,,0,0,0\", \"steem,0,0,0,,#cryptocurrencies\", \"steem,/dailycoinfeed\", \"1024384316128808960,1024384316128808960,864932553697964032,dailycoinfeed,0,2018\", \"436.044\", \"781.860\", \"cryptocurrencies\", \"7.325\", \"alert\", \"7;785.645\", \"16:00,top\", \"23:00:27\", \"0.436\", \"bitcoin\", \"ethereum\", \"ripplenews\", \"trading\", \"bitcoincash\"], \"Total\": [19.0, 19.0, 19.0, 19.0, 19.0, 10.0, 10.0, 10.0, 10.0, 10.0, 10.0, 10.0, 10.0, 10.0, 10.0, 10.0, 10.0, 10.0, 10.132566452026367, 10.132675170898438, 10.132856369018555, 10.132513999938965, 10.13271427154541, 10.132287979125977, 10.132675170898438, 10.132719993591309, 10.132881164550781, 10.13222599029541, 10.132874488830566, 10.132802963256836, 10.132475852966309, 19.65492820739746, 19.656681060791016, 19.654296875, 19.655323028564453, 19.654525756835938, 19.656681060791016, 19.655323028564453, 19.65492820739746, 19.654525756835938, 19.654296875, 10.132874488830566, 10.132881164550781, 10.132856369018555, 10.132802963256836, 10.132719993591309, 10.13271427154541, 10.132675170898438, 10.132675170898438, 10.132566452026367, 10.132513999938965, 10.132475852966309, 10.132287979125977, 10.13222599029541, 10.13222599029541, 10.132287979125977, 10.132475852966309, 10.132513999938965, 10.132566452026367, 10.132675170898438, 10.132719993591309, 10.13271427154541, 10.132675170898438, 10.132874488830566, 10.132802963256836, 10.132881164550781, 10.132856369018555, 19.654296875, 19.654525756835938, 19.65492820739746, 19.655323028564453, 19.656681060791016, 10.132802963256836, 10.132513999938965, 10.132675170898438, 10.13222599029541, 10.132287979125977, 10.132675170898438, 10.13271427154541, 10.132881164550781, 10.132856369018555, 10.132719993591309, 10.132566452026367, 10.132475852966309, 10.132874488830566, 19.654296875, 19.654525756835938, 19.65492820739746, 19.655323028564453, 19.656681060791016, 10.13222599029541, 10.132287979125977, 10.132513999938965, 10.132475852966309, 10.132566452026367, 10.132675170898438, 10.132675170898438, 10.13271427154541, 10.132719993591309, 10.132802963256836, 10.132856369018555, 10.132881164550781, 10.132874488830566, 19.654296875, 19.654525756835938, 19.65492820739746, 19.655323028564453, 19.656681060791016], \"loglift\": [18.0, 17.0, 16.0, 15.0, 14.0, 13.0, 12.0, 11.0, 10.0, 9.0, 8.0, 7.0, 6.0, 5.0, 4.0, 3.0, 2.0, 1.0, 0.23100000619888306, 0.23080000281333923, 0.23070000112056732, 0.2304999977350235, 0.23029999434947968, 0.23019999265670776, 0.23019999265670776, 0.23019999265670776, 0.23000000417232513, 0.23000000417232513, 0.2298000007867813, 0.2296999990940094, 0.22949999570846558, -0.4251999855041504, -0.4259999990463257, -0.42640000581741333, -0.42649999260902405, -0.42660000920295715, 0.011900000274181366, 0.011800000444054604, 0.011800000444054604, 0.011800000444054604, 0.011800000444054604, -0.008899999782443047, -0.008899999782443047, -0.008899999782443047, -0.008899999782443047, -0.008899999782443047, -0.008899999782443047, -0.008899999782443047, -0.008899999782443047, -0.008899999782443047, -0.008899999782443047, -0.008899999782443047, -0.008999999612569809, -0.008999999612569809, 0.22589999437332153, 0.22509999573230743, 0.22419999539852142, 0.22220000624656677, 0.22169999778270721, 0.2206999957561493, 0.22059999406337738, 0.22040000557899475, 0.22030000388622284, 0.21979999542236328, 0.21960000693798065, 0.21889999508857727, 0.21860000491142273, -0.3968000113964081, -0.3970000147819519, -0.4023999869823456, -0.4041000008583069, -0.41830000281333923, 0.23180000483989716, 0.23170000314712524, 0.23170000314712524, 0.23160000145435333, 0.23149999976158142, 0.23149999976158142, 0.2312999963760376, 0.2312999963760376, 0.2312999963760376, 0.2312999963760376, 0.23109999299049377, 0.23100000619888306, 0.2305999994277954, -0.42640000581741333, -0.42879998683929443, -0.42890000343322754, -0.4302000105381012, -0.4309999942779541, 0.23199999332427979, 0.23199999332427979, 0.23199999332427979, 0.23199999332427979, 0.23190000653266907, 0.23190000653266907, 0.23190000653266907, 0.23190000653266907, 0.23190000653266907, 0.23190000653266907, 0.23190000653266907, 0.23190000653266907, 0.23190000653266907, -0.43059998750686646, -0.43059998750686646, -0.43059998750686646, -0.43059998750686646, -0.43070000410079956], \"logprob\": [18.0, 17.0, 16.0, 15.0, 14.0, 13.0, 12.0, 11.0, 10.0, 9.0, 8.0, 7.0, 6.0, 5.0, 4.0, 3.0, 2.0, 1.0, -2.8912999629974365, -2.8914999961853027, -2.8915998935699463, -2.891900062561035, -2.8919999599456787, -2.892199993133545, -2.892199993133545, -2.892199993133545, -2.8922998905181885, -2.892400026321411, -2.8924999237060547, -2.8926000595092773, -2.892899990081787, -2.8849000930786133, -2.885699987411499, -2.886199951171875, -2.886199951171875, -2.8863000869750977, -2.4477999210357666, -2.4479000568389893, -2.4479000568389893, -2.447999954223633, -2.447999954223633, -3.131200075149536, -3.131200075149536, -3.131200075149536, -3.131200075149536, -3.131200075149536, -3.131200075149536, -3.131200075149536, -3.131200075149536, -3.131200075149536, -3.1312999725341797, -3.1312999725341797, -3.1312999725341797, -3.1312999725341797, -2.896399974822998, -2.8973000049591064, -2.898099899291992, -2.900099992752075, -2.900599956512451, -2.901599884033203, -2.901700019836426, -2.901900053024292, -2.9019999504089355, -2.9024999141693115, -2.9026999473571777, -2.90339994430542, -2.903700113296509, -2.856600046157837, -2.856800079345703, -2.8620998859405518, -2.8638999462127686, -2.8778998851776123, -2.890500068664551, -2.890700101852417, -2.890700101852417, -2.8907999992370605, -2.8907999992370605, -2.890899896621704, -2.8910000324249268, -2.8910000324249268, -2.8910000324249268, -2.8910000324249268, -2.8912999629974365, -2.891400098800659, -2.891700029373169, -2.886199951171875, -2.8886001110076904, -2.8886001110076904, -2.890000104904175, -2.890700101852417, -2.890399932861328, -2.890399932861328, -2.890399932861328, -2.890399932861328, -2.890399932861328, -2.890399932861328, -2.890399932861328, -2.890399932861328, -2.890399932861328, -2.890399932861328, -2.890399932861328, -2.890399932861328, -2.890399932861328, -2.890399932861328, -2.890399932861328, -2.8903000354766846, -2.890399932861328, -2.890399932861328]}, \"token.table\": {\"Topic\": [2, 2, 2, 2, 2, 2, 2, 2, 2, 2, 2, 2, 2, 2, 2, 2, 2, 2], \"Freq\": [0.9868867993354797, 0.9869256019592285, 0.9868885278701782, 0.9868861436843872, 0.9869167804718018, 0.9869024157524109, 0.9869062304496765, 0.9868937730789185, 0.9869018197059631, 0.9667097330093384, 0.9665924906730652, 0.9869062304496765, 0.9666984677314758, 0.9666786789894104, 0.9869499802589417, 0.9869219064712524, 0.9869439005851746, 0.9666592478752136], \"Term\": [\"0.436\", \"1024384316128808960,1024384316128808960,864932553697964032,dailycoinfeed,0,2018\", \"16:00,top\", \"23:00:27\", \"436.044\", \"7.325\", \"781.860\", \"7;785.645\", \"alert\", \"bitcoin\", \"bitcoincash\", \"cryptocurrencies\", \"ethereum\", \"ripplenews\", \"status/1024384316128808960,,0,0,0\", \"steem,/dailycoinfeed\", \"steem,0,0,0,,#cryptocurrencies\", \"trading\"]}, \"R\": 18, \"lambda.step\": 0.01, \"plot.opts\": {\"xlab\": \"PC1\", \"ylab\": \"PC2\"}, \"topic.order\": [1, 2, 3, 4, 5]};\n",
       "\n",
       "function LDAvis_load_lib(url, callback){\n",
       "  var s = document.createElement('script');\n",
       "  s.src = url;\n",
       "  s.async = true;\n",
       "  s.onreadystatechange = s.onload = callback;\n",
       "  s.onerror = function(){console.warn(\"failed to load library \" + url);};\n",
       "  document.getElementsByTagName(\"head\")[0].appendChild(s);\n",
       "}\n",
       "\n",
       "if(typeof(LDAvis) !== \"undefined\"){\n",
       "   // already loaded: just create the visualization\n",
       "   !function(LDAvis){\n",
       "       new LDAvis(\"#\" + \"ldavis_el45491398765700560488366439864\", ldavis_el45491398765700560488366439864_data);\n",
       "   }(LDAvis);\n",
       "}else if(typeof define === \"function\" && define.amd){\n",
       "   // require.js is available: use it to load d3/LDAvis\n",
       "   require.config({paths: {d3: \"https://cdnjs.cloudflare.com/ajax/libs/d3/3.5.5/d3.min\"}});\n",
       "   require([\"d3\"], function(d3){\n",
       "      window.d3 = d3;\n",
       "      LDAvis_load_lib(\"https://cdn.rawgit.com/bmabey/pyLDAvis/files/ldavis.v1.0.0.js\", function(){\n",
       "        new LDAvis(\"#\" + \"ldavis_el45491398765700560488366439864\", ldavis_el45491398765700560488366439864_data);\n",
       "      });\n",
       "    });\n",
       "}else{\n",
       "    // require.js not available: dynamically load d3 & LDAvis\n",
       "    LDAvis_load_lib(\"https://cdnjs.cloudflare.com/ajax/libs/d3/3.5.5/d3.min.js\", function(){\n",
       "         LDAvis_load_lib(\"https://cdn.rawgit.com/bmabey/pyLDAvis/files/ldavis.v1.0.0.js\", function(){\n",
       "                 new LDAvis(\"#\" + \"ldavis_el45491398765700560488366439864\", ldavis_el45491398765700560488366439864_data);\n",
       "            })\n",
       "         });\n",
       "}\n",
       "</script>"
      ],
      "text/plain": [
       "<IPython.core.display.HTML object>"
      ]
     },
     "execution_count": 39,
     "metadata": {},
     "output_type": "execute_result"
    }
   ],
   "source": [
    "import pyLDAvis.gensim\n",
    "lda_display = pyLDAvis.gensim.prepare(lda, corpus, dictionary, sort_topics=False)\n",
    "pyLDAvis.display(lda_display)"
   ]
  },
  {
   "cell_type": "code",
   "execution_count": null,
   "metadata": {},
   "outputs": [],
   "source": []
  }
 ],
 "metadata": {
  "kernelspec": {
   "display_name": "Python 3",
   "language": "python",
   "name": "python3"
  },
  "language_info": {
   "codemirror_mode": {
    "name": "ipython",
    "version": 3
   },
   "file_extension": ".py",
   "mimetype": "text/x-python",
   "name": "python",
   "nbconvert_exporter": "python",
   "pygments_lexer": "ipython3",
   "version": "3.6.8"
  }
 },
 "nbformat": 4,
 "nbformat_minor": 2
}
