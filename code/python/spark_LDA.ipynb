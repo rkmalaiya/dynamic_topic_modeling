{
 "cells": [
  {
   "cell_type": "code",
   "execution_count": 1,
   "metadata": {},
   "outputs": [],
   "source": [
    "import findspark\n",
    "findspark.init()\n",
    "import pyspark ############ only run after findspark.init() ########\n",
    "from pyspark.sql import SQLContext\n",
    "from pyspark import SparkConf\n",
    "from pyspark.ml.feature import CountVectorizer\n",
    "from pyspark.sql import SparkSession\n",
    "from pyspark.sql.functions import udf\n",
    "from pyspark.sql.types import StringType\n",
    "from pyspark.sql.types import ArrayType\n",
    "from pyspark.ml.feature import HashingTF, IDF, Tokenizer\n",
    "from pyspark.ml.clustering import LDA\n",
    "from pyspark.ml import Pipeline\n",
    "\n",
    "\n",
    "import matplotlib.pyplot as plt\n",
    "import pandas as pd\n",
    "import sqlite3\n",
    "import pandas as pd\n",
    "import string\n",
    "from tqdm import tqdm\n",
    "\n",
    "\n",
    "import spacy\n",
    "import spacy\n",
    "from spacy.lang.en.stop_words import STOP_WORDS\n",
    "from spacy.lang.en import English\n",
    "\n",
    "%matplotlib inline"
   ]
  },
  {
   "cell_type": "code",
   "execution_count": 2,
   "metadata": {},
   "outputs": [
    {
     "name": "stdout",
     "output_type": "stream",
     "text": [
      "2.3.2\n"
     ]
    }
   ],
   "source": [
    "sc = SparkSession.builder.getOrCreate()\n",
    "print(sc.version)"
   ]
  },
  {
   "cell_type": "code",
   "execution_count": 3,
   "metadata": {},
   "outputs": [],
   "source": [
    "bitcoin_df_spark = sc.read.load('../../data/bitcoinoct17tooct18/all.csv', format=\"csv\", header=True)\n",
    "eth_df_spark = sc.read.load('../../data/eth_1aug15_1aug18/0.csv', format=\"csv\", header=True)\n",
    "facebook_df_spark = sc.read.load('../../data/facebook3March18to1Sep18/0.csv', format=\"csv\", header=True)\n"
   ]
  },
  {
   "cell_type": "code",
   "execution_count": 4,
   "metadata": {},
   "outputs": [
    {
     "name": "stdout",
     "output_type": "stream",
     "text": [
      "+-------------------+-------------------+------------------+---------------+----------+----------------+--------+--------------------+-------+--------+---------+--------------------+--------------------+--------------------+--------------------+--------------------+-------+---------+-------------+---------------+-------------------+-------------------+------------------+\n",
      "|            TweetID|     ConversationID|          AuthorId|     AuthorName|isVerified|        DateTime|Language|           TweetText|Replies|Retweets|Favorites|            Mentions|            Hashtags|           Permalink|                URLs|isPartOfConversation|isReply|isRetweet|ReplyToUserID|ReplyToUserName|      QuotedTweetID|QuotedTweetUserName| QuotedTweetUserID|\n",
      "+-------------------+-------------------+------------------+---------------+----------+----------------+--------+--------------------+-------+--------+---------+--------------------+--------------------+--------------------+--------------------+--------------------+-------+---------+-------------+---------------+-------------------+-------------------+------------------+\n",
      "|1049449336726122497|1049449336726122497|767253595716661248|    sirarthur04|         0|2018-10-08 19:59|     und|#BitcoinOne #BTCO...|      0|       0|        0|                null|#BitcoinOne #BTCO...|/sirarthur04/stat...|https://twitter.c...|                   0|      0|        1|         null|           null|1049322470812073988|      THEBITCOINONE|941643220508868613|\n",
      "|1049449307043024896|1049449307043024896|         768679436|      tapatrade|         0|2018-10-08 19:59|     und|#bitcoin https://...|      0|       0|        0|                null|            #bitcoin|/tapatrade/status...|https://twitter.c...|                   0|      0|        1|         null|           null|1022169639386836992|      MustStopMurad|844304603336232960|\n",
      "|1049449278194769920|1049449278194769920|         808146374|AutolottoscratR|         0|2018-10-08 19:59|     und|#Autolottoscratch...|      0|       0|        2|                null|#Autolottoscratch...|/AutolottoscratR/...|https://www.insta...|                   0|      0|        0|         null|           null|               null|               null|              null|\n",
      "|1049449198771470336|1049449198771470336|849237156010786819|     otc_cyborg|         0|2018-10-08 19:59|      en|UK Telecoms Regul...|      0|       0|        1|BIGMONEYMIKE6 jus...|#bitcoin #blockch...|/otc_cyborg/statu...|https://ift.tt/2O...|                   0|      0|        0|         null|           null|               null|               null|              null|\n",
      "|1049449160129343488|1049449160129343488|        1466726246|      Coinboard|         0|2018-10-08 19:59|      en|Electron Cash Dev...|      0|       0|        0|               BTCTN|#cryptocurrency #...|/Coinboard/status...|http://twib.in/l/...|                   0|      0|        0|         null|           null|               null|               null|              null|\n",
      "+-------------------+-------------------+------------------+---------------+----------+----------------+--------+--------------------+-------+--------+---------+--------------------+--------------------+--------------------+--------------------+--------------------+-------+---------+-------------+---------------+-------------------+-------------------+------------------+\n",
      "only showing top 5 rows\n",
      "\n"
     ]
    }
   ],
   "source": [
    "bitcoin_df_spark.show(5)"
   ]
  },
  {
   "cell_type": "code",
   "execution_count": 5,
   "metadata": {},
   "outputs": [
    {
     "name": "stdout",
     "output_type": "stream",
     "text": [
      "+-------------------+-------------------+------------------+-------------+----------+----------------+--------------------+-------+--------+---------+--------------------+--------------------+--------------------+--------------------+--------------------+-------+---------+-------------+---------------+-------------------+-------------------+------------------+\n",
      "|            TweetID|     ConversationID|          AuthorId|   AuthorName|isVerified|        DateTime|           TweetText|Replies|Retweets|Favorites|            Mentions|            Hashtags|           Permalink|                URLs|isPartOfConversation|isReply|isRetweet|ReplyToUserID|ReplyToUserName|      QuotedTweetID|QuotedTweetUserName| QuotedTweetUserID|\n",
      "+-------------------+-------------------+------------------+-------------+----------+----------------+--------------------+-------+--------+---------+--------------------+--------------------+--------------------+--------------------+--------------------+-------+---------+-------------+---------------+-------------------+-------------------+------------------+\n",
      "|1024444451639451653|1024444451639451653|        2276587183|coinspectator|         0|2018-07-31 19:59|Shopin Continues ...|      0|       0|        0|                null|#bitcoin #ethereu...|/coinspectator/st...|https://coinspect...|                   0|      0|        0|         null|           null|               null|               null|              null|\n",
      "|1024444283363962880|1024444283363962880|963657116782419970|    drewawise|         1|2018-07-31 19:58|You must see this...|      0|       4|       12|                null|#TRON #btc #eth #...|/drewawise/status...|https://twitter.c...|                   0|      0|        1|         null|           null|1024226332941549568|      justinsuntron|902839045356744704|\n",
      "|1024444257116057600|1024444257116057600|         259856497|    BeerdHead|         0|2018-07-31 19:58|Dear all of $ Cry...|      1|       0|        3|RudyHavenstein co...|#Cryptocurrency #...|/BeerdHead/status...|https://twitter.c...|                   0|      0|        1|         null|           null|1024442326272290816|     RudyHavenstein|        1358146357|\n",
      "|1024444244830969857|1024444244830969857|          46092203|  maransa2006|         0|2018-07-31 19:58|This tweet; \"TOP ...|      0|       0|        0|                null|#cryptocurrency #...|/maransa2006/stat...|                null|                   0|      0|        0|         null|           null|               null|               null|              null|\n",
      "|1024444219778203650|1024444219778203650|953111456332984321|CereloMasilag|         0|2018-07-31 19:58|CYDER Token Teleg...|      0|       0|        0|                null|#Airdrop #tokens ...|/CereloMasilag/st...|https://telegram....|                   0|      0|        0|         null|           null|               null|               null|              null|\n",
      "+-------------------+-------------------+------------------+-------------+----------+----------------+--------------------+-------+--------+---------+--------------------+--------------------+--------------------+--------------------+--------------------+-------+---------+-------------+---------------+-------------------+-------------------+------------------+\n",
      "only showing top 5 rows\n",
      "\n"
     ]
    }
   ],
   "source": [
    "eth_df_spark.show(5)"
   ]
  },
  {
   "cell_type": "code",
   "execution_count": 6,
   "metadata": {},
   "outputs": [
    {
     "name": "stdout",
     "output_type": "stream",
     "text": [
      "+-------------------+-------------------+-------------------+---------------+----------+----------------+--------------------+-------+--------+---------+---------+--------------------+--------------------+--------------------+--------------------+-------+---------+-------------+---------------+-------------------+-------------------+-----------------+\n",
      "|            TweetID|     ConversationID|           AuthorId|    Author Name|isVerified|        DateTime|           TweetText|Replies|Retweets|Favorites| Mentions|            Hashtags|           Permalink|                URLs|isPartOfConversation|isReply|isRetweet|ReplyToUserID|ReplyToUserName|      QuotedTweetID|QuotedTweetUserName|QuotedTweetUserID|\n",
      "+-------------------+-------------------+-------------------+---------------+----------+----------------+--------------------+-------+--------+---------+---------+--------------------+--------------------+--------------------+--------------------+-------+---------+-------------+---------------+-------------------+-------------------+-----------------+\n",
      "|1035678596109496320|1035678596109496320|          322136702|   RipoffReport|         0|2018-08-31 19:59|IT MAY NOT BE A S...|      0|       0|        1|Pinterest|#Twitter #Faceboo...|/RipoffReport/sta...|http://www.ripoff...|                   0|      0|        0|         null|           null|               null|               null|             null|\n",
      "|1035678576325025792|1035678576325025792|         1850148601|     kris_jayne|         0|2018-08-31 19:59|★★LABOR DAY #GIVE...|      0|       0|        1|     null|#GIVEAWAY #facebo...|/kris_jayne/statu...|https://m.faceboo...|                   0|      0|        0|         null|           null|               null|               null|             null|\n",
      "|1035678488735428608|1035678488735428608|         1135955640|      roneebsas|         0|2018-08-31 19:59|<< ¡Nos renovamos...|      0|       0|        0|     null|#tienda #facebook...|/roneebsas/status...|https://www.faceb...|                   0|      0|        0|         null|           null|               null|               null|             null|\n",
      "|1035678296879575040|1035678296879575040|         2793922030|mostwatchedvids|         0|2018-08-31 19:58|Zion & #Lennox - ...|      0|       0|        0|     null|#Lennox #http #In...|/mostwatchedvids/...|http://mostwatche...|                   0|      0|        0|         null|           null|               null|               null|             null|\n",
      "|1035678077181775872|1035678077181775872|1003678295249113088|  NortonCustome|         1|2018-08-31 19:57|#Facebook #Passwo...|      0|       0|        0|     null|#Facebook #Passwo...|/NortonCustome/st...|http://facebookse...|                   0|      0|        1|         null|           null|1035484386324566016|       BomDiaBrasil|        368996891|\n",
      "+-------------------+-------------------+-------------------+---------------+----------+----------------+--------------------+-------+--------+---------+---------+--------------------+--------------------+--------------------+--------------------+-------+---------+-------------+---------------+-------------------+-------------------+-----------------+\n",
      "only showing top 5 rows\n",
      "\n"
     ]
    }
   ],
   "source": [
    "facebook_df_spark.show(5)"
   ]
  },
  {
   "cell_type": "code",
   "execution_count": 7,
   "metadata": {},
   "outputs": [
    {
     "name": "stdout",
     "output_type": "stream",
     "text": [
      "root\n",
      " |-- TweetID: string (nullable = true)\n",
      " |-- ConversationID: string (nullable = true)\n",
      " |-- AuthorId: string (nullable = true)\n",
      " |-- Author Name: string (nullable = true)\n",
      " |-- isVerified: string (nullable = true)\n",
      " |-- DateTime: string (nullable = true)\n",
      " |-- TweetText: string (nullable = true)\n",
      " |-- Replies: string (nullable = true)\n",
      " |-- Retweets: string (nullable = true)\n",
      " |-- Favorites: string (nullable = true)\n",
      " |-- Mentions: string (nullable = true)\n",
      " |-- Hashtags: string (nullable = true)\n",
      " |-- Permalink: string (nullable = true)\n",
      " |-- URLs: string (nullable = true)\n",
      " |-- isPartOfConversation: string (nullable = true)\n",
      " |-- isReply: string (nullable = true)\n",
      " |-- isRetweet: string (nullable = true)\n",
      " |-- ReplyToUserID: string (nullable = true)\n",
      " |-- ReplyToUserName: string (nullable = true)\n",
      " |-- QuotedTweetID: string (nullable = true)\n",
      " |-- QuotedTweetUserName: string (nullable = true)\n",
      " |-- QuotedTweetUserID: string (nullable = true)\n",
      "\n"
     ]
    }
   ],
   "source": [
    "facebook_df_spark.printSchema()"
   ]
  },
  {
   "cell_type": "code",
   "execution_count": 8,
   "metadata": {},
   "outputs": [
    {
     "data": {
      "text/plain": [
       "3039052"
      ]
     },
     "execution_count": 8,
     "metadata": {},
     "output_type": "execute_result"
    }
   ],
   "source": [
    "bitcoin_df_spark.count()"
   ]
  },
  {
   "cell_type": "code",
   "execution_count": 9,
   "metadata": {},
   "outputs": [],
   "source": [
    "sqlContext = SQLContext(sc)\n",
    "nlp = spacy.load('en_core_web_lg')\n",
    "parser = English()\n",
    "punctuations = string.punctuation\n",
    "stopwords = list(STOP_WORDS)\n",
    "def spacy_tokenizer(sentence):\n",
    "    print('in')\n",
    "    mytokens = parser(sentence[1:100000])\n",
    "    mytokens = [ word.lemma_.lower().strip() if word.lemma_ != \"-PRON-\" else word.lower_ for word in mytokens ]\n",
    "    mytokens = [ word for word in mytokens if word not in stopwords and word not in punctuations ]\n",
    "    #mytokens = \" \".join([i for i in mytokens])\n",
    "    return mytokens"
   ]
  },
  {
   "cell_type": "code",
   "execution_count": 10,
   "metadata": {},
   "outputs": [],
   "source": [
    "spacy_tokenizer_udf = udf(f = spacy_tokenizer, returnType= ArrayType(StringType()))"
   ]
  },
  {
   "cell_type": "code",
   "execution_count": 11,
   "metadata": {},
   "outputs": [],
   "source": [
    "bitcoin_df_spark = bitcoin_df_spark.withColumn(\"processed_text\", spacy_tokenizer_udf(bitcoin_df_spark['TweetText']))\n",
    "eth_df_spark = eth_df_spark.withColumn(\"processed_text\", spacy_tokenizer_udf(eth_df_spark['TweetText']))\n",
    "facebook_df_spark = facebook_df_spark.withColumn(\"processed_text\", spacy_tokenizer_udf(facebook_df_spark['TweetText']))"
   ]
  },
  {
   "cell_type": "code",
   "execution_count": 13,
   "metadata": {},
   "outputs": [
    {
     "name": "stdout",
     "output_type": "stream",
     "text": [
      "+-------------------+-------------------+------------------+---------------+----------+----------------+--------+--------------------+-------+--------+---------+--------------------+--------------------+--------------------+--------------------+--------------------+-------+---------+-------------+---------------+-------------------+-------------------+------------------+--------------------+\n",
      "|            TweetID|     ConversationID|          AuthorId|     AuthorName|isVerified|        DateTime|Language|           TweetText|Replies|Retweets|Favorites|            Mentions|            Hashtags|           Permalink|                URLs|isPartOfConversation|isReply|isRetweet|ReplyToUserID|ReplyToUserName|      QuotedTweetID|QuotedTweetUserName| QuotedTweetUserID|      processed_text|\n",
      "+-------------------+-------------------+------------------+---------------+----------+----------------+--------+--------------------+-------+--------+---------+--------------------+--------------------+--------------------+--------------------+--------------------+-------+---------+-------------+---------------+-------------------+-------------------+------------------+--------------------+\n",
      "|1049449336726122497|1049449336726122497|767253595716661248|    sirarthur04|         0|2018-10-08 19:59|     und|#BitcoinOne #BTCO...|      0|       0|        0|                null|#BitcoinOne #BTCO...|/sirarthur04/stat...|https://twitter.c...|                   0|      0|        1|         null|           null|1049322470812073988|      THEBITCOINONE|941643220508868613|[bitcoinone, btco...|\n",
      "|1049449307043024896|1049449307043024896|         768679436|      tapatrade|         0|2018-10-08 19:59|     und|#bitcoin https://...|      0|       0|        0|                null|            #bitcoin|/tapatrade/status...|https://twitter.c...|                   0|      0|        1|         null|           null|1022169639386836992|      MustStopMurad|844304603336232960|[bitcoin, https:/...|\n",
      "|1049449278194769920|1049449278194769920|         808146374|AutolottoscratR|         0|2018-10-08 19:59|     und|#Autolottoscratch...|      0|       0|        2|                null|#Autolottoscratch...|/AutolottoscratR/...|https://www.insta...|                   0|      0|        0|         null|           null|               null|               null|              null|[autolottoscratch...|\n",
      "|1049449198771470336|1049449198771470336|849237156010786819|     otc_cyborg|         0|2018-10-08 19:59|      en|UK Telecoms Regul...|      0|       0|        1|BIGMONEYMIKE6 jus...|#bitcoin #blockch...|/otc_cyborg/statu...|https://ift.tt/2O...|                   0|      0|        0|         null|           null|               null|               null|              null|[k, telecoms, reg...|\n",
      "|1049449160129343488|1049449160129343488|        1466726246|      Coinboard|         0|2018-10-08 19:59|      en|Electron Cash Dev...|      0|       0|        0|               BTCTN|#cryptocurrency #...|/Coinboard/status...|http://twib.in/l/...|                   0|      0|        0|         null|           null|               null|               null|              null|[lectron, cash, d...|\n",
      "+-------------------+-------------------+------------------+---------------+----------+----------------+--------+--------------------+-------+--------+---------+--------------------+--------------------+--------------------+--------------------+--------------------+-------+---------+-------------+---------------+-------------------+-------------------+------------------+--------------------+\n",
      "only showing top 5 rows\n",
      "\n"
     ]
    }
   ],
   "source": [
    "bitcoin_df_spark.show(5)"
   ]
  }
 ],
 "metadata": {
  "kernelspec": {
   "display_name": "Python 3",
   "language": "python",
   "name": "python3"
  },
  "language_info": {
   "codemirror_mode": {
    "name": "ipython",
    "version": 3
   },
   "file_extension": ".py",
   "mimetype": "text/x-python",
   "name": "python",
   "nbconvert_exporter": "python",
   "pygments_lexer": "ipython3",
   "version": "3.6.8"
  }
 },
 "nbformat": 4,
 "nbformat_minor": 2
}
