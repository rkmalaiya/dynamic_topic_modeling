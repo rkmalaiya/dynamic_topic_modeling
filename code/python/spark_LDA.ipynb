{
 "cells": [
  {
   "cell_type": "code",
   "execution_count": 1,
   "metadata": {},
   "outputs": [],
   "source": [
    "import findspark\n",
    "findspark.init()\n",
    "import pyspark ############ only run after findspark.init() ########\n",
    "from pyspark.sql import SQLContext\n",
    "from pyspark import SparkConf\n",
    "from pyspark.ml.feature import CountVectorizer\n",
    "from pyspark.sql import SparkSession\n",
    "from pyspark.sql.functions import udf\n",
    "from pyspark.sql.types import StringType\n",
    "from pyspark.sql.types import ArrayType\n",
    "from pyspark.ml.feature import HashingTF, IDF, Tokenizer\n",
    "from pyspark.ml.clustering import LDA\n",
    "from pyspark.ml import Pipeline\n",
    "\n",
    "\n",
    "import matplotlib.pyplot as plt\n",
    "import pandas as pd\n",
    "import sqlite3\n",
    "import pandas as pd\n",
    "import string\n",
    "from tqdm import tqdm\n",
    "\n",
    "\n",
    "import spacy\n",
    "import spacy\n",
    "from spacy.lang.en.stop_words import STOP_WORDS\n",
    "from spacy.lang.en import English\n",
    "\n",
    "%matplotlib inline"
   ]
  },
  {
   "cell_type": "code",
   "execution_count": 2,
   "metadata": {},
   "outputs": [
    {
     "name": "stdout",
     "output_type": "stream",
     "text": [
      "2.3.2\n"
     ]
    }
   ],
   "source": [
    "sc = SparkSession.builder.getOrCreate()\n",
    "print(sc.version)"
   ]
  },
  {
   "cell_type": "code",
   "execution_count": 3,
   "metadata": {},
   "outputs": [],
   "source": [
    "bitcoin_df_spark = sc.read.load('../../data/bitcoinoct17tooct18/all.csv', format=\"csv\", header=True)\n",
    "eth_df_spark = sc.read.load('../../data/eth_1aug15_1aug18/0.csv', format=\"csv\", header=True)\n",
    "facebook_df_spark = sc.read.load('../../data/facebook3March18to1Sep18/0.csv', format=\"csv\", header=True)\n"
   ]
  },
  {
   "cell_type": "code",
   "execution_count": 4,
   "metadata": {},
   "outputs": [
    {
     "name": "stdout",
     "output_type": "stream",
     "text": [
      "+-------------------+-------------------+------------------+---------------+----------+----------------+--------+--------------------+-------+--------+---------+--------------------+--------------------+--------------------+--------------------+--------------------+-------+---------+-------------+---------------+-------------------+-------------------+------------------+\n",
      "|            TweetID|     ConversationID|          AuthorId|     AuthorName|isVerified|        DateTime|Language|           TweetText|Replies|Retweets|Favorites|            Mentions|            Hashtags|           Permalink|                URLs|isPartOfConversation|isReply|isRetweet|ReplyToUserID|ReplyToUserName|      QuotedTweetID|QuotedTweetUserName| QuotedTweetUserID|\n",
      "+-------------------+-------------------+------------------+---------------+----------+----------------+--------+--------------------+-------+--------+---------+--------------------+--------------------+--------------------+--------------------+--------------------+-------+---------+-------------+---------------+-------------------+-------------------+------------------+\n",
      "|1049449336726122497|1049449336726122497|767253595716661248|    sirarthur04|         0|2018-10-08 19:59|     und|#BitcoinOne #BTCO...|      0|       0|        0|                null|#BitcoinOne #BTCO...|/sirarthur04/stat...|https://twitter.c...|                   0|      0|        1|         null|           null|1049322470812073988|      THEBITCOINONE|941643220508868613|\n",
      "|1049449307043024896|1049449307043024896|         768679436|      tapatrade|         0|2018-10-08 19:59|     und|#bitcoin https://...|      0|       0|        0|                null|            #bitcoin|/tapatrade/status...|https://twitter.c...|                   0|      0|        1|         null|           null|1022169639386836992|      MustStopMurad|844304603336232960|\n",
      "|1049449278194769920|1049449278194769920|         808146374|AutolottoscratR|         0|2018-10-08 19:59|     und|#Autolottoscratch...|      0|       0|        2|                null|#Autolottoscratch...|/AutolottoscratR/...|https://www.insta...|                   0|      0|        0|         null|           null|               null|               null|              null|\n",
      "|1049449198771470336|1049449198771470336|849237156010786819|     otc_cyborg|         0|2018-10-08 19:59|      en|UK Telecoms Regul...|      0|       0|        1|BIGMONEYMIKE6 jus...|#bitcoin #blockch...|/otc_cyborg/statu...|https://ift.tt/2O...|                   0|      0|        0|         null|           null|               null|               null|              null|\n",
      "|1049449160129343488|1049449160129343488|        1466726246|      Coinboard|         0|2018-10-08 19:59|      en|Electron Cash Dev...|      0|       0|        0|               BTCTN|#cryptocurrency #...|/Coinboard/status...|http://twib.in/l/...|                   0|      0|        0|         null|           null|               null|               null|              null|\n",
      "+-------------------+-------------------+------------------+---------------+----------+----------------+--------+--------------------+-------+--------+---------+--------------------+--------------------+--------------------+--------------------+--------------------+-------+---------+-------------+---------------+-------------------+-------------------+------------------+\n",
      "only showing top 5 rows\n",
      "\n"
     ]
    }
   ],
   "source": [
    "bitcoin_df_spark.show(5)"
   ]
  },
  {
   "cell_type": "code",
   "execution_count": 5,
   "metadata": {},
   "outputs": [
    {
     "name": "stdout",
     "output_type": "stream",
     "text": [
      "+-------------------+-------------------+------------------+-------------+----------+----------------+--------------------+-------+--------+---------+--------------------+--------------------+--------------------+--------------------+--------------------+-------+---------+-------------+---------------+-------------------+-------------------+------------------+\n",
      "|            TweetID|     ConversationID|          AuthorId|   AuthorName|isVerified|        DateTime|           TweetText|Replies|Retweets|Favorites|            Mentions|            Hashtags|           Permalink|                URLs|isPartOfConversation|isReply|isRetweet|ReplyToUserID|ReplyToUserName|      QuotedTweetID|QuotedTweetUserName| QuotedTweetUserID|\n",
      "+-------------------+-------------------+------------------+-------------+----------+----------------+--------------------+-------+--------+---------+--------------------+--------------------+--------------------+--------------------+--------------------+-------+---------+-------------+---------------+-------------------+-------------------+------------------+\n",
      "|1024444451639451653|1024444451639451653|        2276587183|coinspectator|         0|2018-07-31 19:59|Shopin Continues ...|      0|       0|        0|                null|#bitcoin #ethereu...|/coinspectator/st...|https://coinspect...|                   0|      0|        0|         null|           null|               null|               null|              null|\n",
      "|1024444283363962880|1024444283363962880|963657116782419970|    drewawise|         1|2018-07-31 19:58|You must see this...|      0|       4|       12|                null|#TRON #btc #eth #...|/drewawise/status...|https://twitter.c...|                   0|      0|        1|         null|           null|1024226332941549568|      justinsuntron|902839045356744704|\n",
      "|1024444257116057600|1024444257116057600|         259856497|    BeerdHead|         0|2018-07-31 19:58|Dear all of $ Cry...|      1|       0|        3|RudyHavenstein co...|#Cryptocurrency #...|/BeerdHead/status...|https://twitter.c...|                   0|      0|        1|         null|           null|1024442326272290816|     RudyHavenstein|        1358146357|\n",
      "|1024444244830969857|1024444244830969857|          46092203|  maransa2006|         0|2018-07-31 19:58|This tweet; \"TOP ...|      0|       0|        0|                null|#cryptocurrency #...|/maransa2006/stat...|                null|                   0|      0|        0|         null|           null|               null|               null|              null|\n",
      "|1024444219778203650|1024444219778203650|953111456332984321|CereloMasilag|         0|2018-07-31 19:58|CYDER Token Teleg...|      0|       0|        0|                null|#Airdrop #tokens ...|/CereloMasilag/st...|https://telegram....|                   0|      0|        0|         null|           null|               null|               null|              null|\n",
      "+-------------------+-------------------+------------------+-------------+----------+----------------+--------------------+-------+--------+---------+--------------------+--------------------+--------------------+--------------------+--------------------+-------+---------+-------------+---------------+-------------------+-------------------+------------------+\n",
      "only showing top 5 rows\n",
      "\n"
     ]
    }
   ],
   "source": [
    "eth_df_spark.show(5)"
   ]
  },
  {
   "cell_type": "code",
   "execution_count": 6,
   "metadata": {},
   "outputs": [
    {
     "name": "stdout",
     "output_type": "stream",
     "text": [
      "+-------------------+-------------------+-------------------+---------------+----------+----------------+--------------------+-------+--------+---------+---------+--------------------+--------------------+--------------------+--------------------+-------+---------+-------------+---------------+-------------------+-------------------+-----------------+\n",
      "|            TweetID|     ConversationID|           AuthorId|    Author Name|isVerified|        DateTime|           TweetText|Replies|Retweets|Favorites| Mentions|            Hashtags|           Permalink|                URLs|isPartOfConversation|isReply|isRetweet|ReplyToUserID|ReplyToUserName|      QuotedTweetID|QuotedTweetUserName|QuotedTweetUserID|\n",
      "+-------------------+-------------------+-------------------+---------------+----------+----------------+--------------------+-------+--------+---------+---------+--------------------+--------------------+--------------------+--------------------+-------+---------+-------------+---------------+-------------------+-------------------+-----------------+\n",
      "|1035678596109496320|1035678596109496320|          322136702|   RipoffReport|         0|2018-08-31 19:59|IT MAY NOT BE A S...|      0|       0|        1|Pinterest|#Twitter #Faceboo...|/RipoffReport/sta...|http://www.ripoff...|                   0|      0|        0|         null|           null|               null|               null|             null|\n",
      "|1035678576325025792|1035678576325025792|         1850148601|     kris_jayne|         0|2018-08-31 19:59|★★LABOR DAY #GIVE...|      0|       0|        1|     null|#GIVEAWAY #facebo...|/kris_jayne/statu...|https://m.faceboo...|                   0|      0|        0|         null|           null|               null|               null|             null|\n",
      "|1035678488735428608|1035678488735428608|         1135955640|      roneebsas|         0|2018-08-31 19:59|<< ¡Nos renovamos...|      0|       0|        0|     null|#tienda #facebook...|/roneebsas/status...|https://www.faceb...|                   0|      0|        0|         null|           null|               null|               null|             null|\n",
      "|1035678296879575040|1035678296879575040|         2793922030|mostwatchedvids|         0|2018-08-31 19:58|Zion & #Lennox - ...|      0|       0|        0|     null|#Lennox #http #In...|/mostwatchedvids/...|http://mostwatche...|                   0|      0|        0|         null|           null|               null|               null|             null|\n",
      "|1035678077181775872|1035678077181775872|1003678295249113088|  NortonCustome|         1|2018-08-31 19:57|#Facebook #Passwo...|      0|       0|        0|     null|#Facebook #Passwo...|/NortonCustome/st...|http://facebookse...|                   0|      0|        1|         null|           null|1035484386324566016|       BomDiaBrasil|        368996891|\n",
      "+-------------------+-------------------+-------------------+---------------+----------+----------------+--------------------+-------+--------+---------+---------+--------------------+--------------------+--------------------+--------------------+-------+---------+-------------+---------------+-------------------+-------------------+-----------------+\n",
      "only showing top 5 rows\n",
      "\n"
     ]
    }
   ],
   "source": [
    "facebook_df_spark.show(5)"
   ]
  },
  {
   "cell_type": "code",
   "execution_count": 7,
   "metadata": {},
   "outputs": [
    {
     "name": "stdout",
     "output_type": "stream",
     "text": [
      "root\n",
      " |-- TweetID: string (nullable = true)\n",
      " |-- ConversationID: string (nullable = true)\n",
      " |-- AuthorId: string (nullable = true)\n",
      " |-- Author Name: string (nullable = true)\n",
      " |-- isVerified: string (nullable = true)\n",
      " |-- DateTime: string (nullable = true)\n",
      " |-- TweetText: string (nullable = true)\n",
      " |-- Replies: string (nullable = true)\n",
      " |-- Retweets: string (nullable = true)\n",
      " |-- Favorites: string (nullable = true)\n",
      " |-- Mentions: string (nullable = true)\n",
      " |-- Hashtags: string (nullable = true)\n",
      " |-- Permalink: string (nullable = true)\n",
      " |-- URLs: string (nullable = true)\n",
      " |-- isPartOfConversation: string (nullable = true)\n",
      " |-- isReply: string (nullable = true)\n",
      " |-- isRetweet: string (nullable = true)\n",
      " |-- ReplyToUserID: string (nullable = true)\n",
      " |-- ReplyToUserName: string (nullable = true)\n",
      " |-- QuotedTweetID: string (nullable = true)\n",
      " |-- QuotedTweetUserName: string (nullable = true)\n",
      " |-- QuotedTweetUserID: string (nullable = true)\n",
      "\n"
     ]
    }
   ],
   "source": [
    "facebook_df_spark.printSchema()"
   ]
  },
  {
   "cell_type": "code",
   "execution_count": 8,
   "metadata": {},
   "outputs": [
    {
     "ename": "Py4JJavaError",
     "evalue": "An error occurred while calling o28.count.\n: java.lang.IllegalArgumentException\n\tat org.apache.xbean.asm5.ClassReader.<init>(Unknown Source)\n\tat org.apache.xbean.asm5.ClassReader.<init>(Unknown Source)\n\tat org.apache.xbean.asm5.ClassReader.<init>(Unknown Source)\n\tat org.apache.spark.util.ClosureCleaner$.getClassReader(ClosureCleaner.scala:46)\n\tat org.apache.spark.util.FieldAccessFinder$$anon$3$$anonfun$visitMethodInsn$2.apply(ClosureCleaner.scala:449)\n\tat org.apache.spark.util.FieldAccessFinder$$anon$3$$anonfun$visitMethodInsn$2.apply(ClosureCleaner.scala:432)\n\tat scala.collection.TraversableLike$WithFilter$$anonfun$foreach$1.apply(TraversableLike.scala:733)\n\tat scala.collection.mutable.HashMap$$anon$1$$anonfun$foreach$2.apply(HashMap.scala:103)\n\tat scala.collection.mutable.HashMap$$anon$1$$anonfun$foreach$2.apply(HashMap.scala:103)\n\tat scala.collection.mutable.HashTable$class.foreachEntry(HashTable.scala:230)\n\tat scala.collection.mutable.HashMap.foreachEntry(HashMap.scala:40)\n\tat scala.collection.mutable.HashMap$$anon$1.foreach(HashMap.scala:103)\n\tat scala.collection.TraversableLike$WithFilter.foreach(TraversableLike.scala:732)\n\tat org.apache.spark.util.FieldAccessFinder$$anon$3.visitMethodInsn(ClosureCleaner.scala:432)\n\tat org.apache.xbean.asm5.ClassReader.a(Unknown Source)\n\tat org.apache.xbean.asm5.ClassReader.b(Unknown Source)\n\tat org.apache.xbean.asm5.ClassReader.accept(Unknown Source)\n\tat org.apache.xbean.asm5.ClassReader.accept(Unknown Source)\n\tat org.apache.spark.util.ClosureCleaner$$anonfun$org$apache$spark$util$ClosureCleaner$$clean$14.apply(ClosureCleaner.scala:262)\n\tat org.apache.spark.util.ClosureCleaner$$anonfun$org$apache$spark$util$ClosureCleaner$$clean$14.apply(ClosureCleaner.scala:261)\n\tat scala.collection.immutable.List.foreach(List.scala:381)\n\tat org.apache.spark.util.ClosureCleaner$.org$apache$spark$util$ClosureCleaner$$clean(ClosureCleaner.scala:261)\n\tat org.apache.spark.util.ClosureCleaner$.clean(ClosureCleaner.scala:159)\n\tat org.apache.spark.SparkContext.clean(SparkContext.scala:2299)\n\tat org.apache.spark.SparkContext.runJob(SparkContext.scala:2073)\n\tat org.apache.spark.SparkContext.runJob(SparkContext.scala:2099)\n\tat org.apache.spark.rdd.RDD$$anonfun$collect$1.apply(RDD.scala:945)\n\tat org.apache.spark.rdd.RDDOperationScope$.withScope(RDDOperationScope.scala:151)\n\tat org.apache.spark.rdd.RDDOperationScope$.withScope(RDDOperationScope.scala:112)\n\tat org.apache.spark.rdd.RDD.withScope(RDD.scala:363)\n\tat org.apache.spark.rdd.RDD.collect(RDD.scala:944)\n\tat org.apache.spark.sql.execution.SparkPlan.executeCollect(SparkPlan.scala:297)\n\tat org.apache.spark.sql.Dataset$$anonfun$count$1.apply(Dataset.scala:2775)\n\tat org.apache.spark.sql.Dataset$$anonfun$count$1.apply(Dataset.scala:2774)\n\tat org.apache.spark.sql.Dataset$$anonfun$52.apply(Dataset.scala:3259)\n\tat org.apache.spark.sql.execution.SQLExecution$.withNewExecutionId(SQLExecution.scala:77)\n\tat org.apache.spark.sql.Dataset.withAction(Dataset.scala:3258)\n\tat org.apache.spark.sql.Dataset.count(Dataset.scala:2774)\n\tat java.base/jdk.internal.reflect.NativeMethodAccessorImpl.invoke0(Native Method)\n\tat java.base/jdk.internal.reflect.NativeMethodAccessorImpl.invoke(NativeMethodAccessorImpl.java:62)\n\tat java.base/jdk.internal.reflect.DelegatingMethodAccessorImpl.invoke(DelegatingMethodAccessorImpl.java:43)\n\tat java.base/java.lang.reflect.Method.invoke(Method.java:564)\n\tat py4j.reflection.MethodInvoker.invoke(MethodInvoker.java:244)\n\tat py4j.reflection.ReflectionEngine.invoke(ReflectionEngine.java:357)\n\tat py4j.Gateway.invoke(Gateway.java:282)\n\tat py4j.commands.AbstractCommand.invokeMethod(AbstractCommand.java:132)\n\tat py4j.commands.CallCommand.execute(CallCommand.java:79)\n\tat py4j.GatewayConnection.run(GatewayConnection.java:238)\n\tat java.base/java.lang.Thread.run(Thread.java:844)\n",
     "output_type": "error",
     "traceback": [
      "\u001b[0;31m---------------------------------------------------------------------------\u001b[0m",
      "\u001b[0;31mPy4JJavaError\u001b[0m                             Traceback (most recent call last)",
      "\u001b[0;32m<ipython-input-8-1e5bee48dcfc>\u001b[0m in \u001b[0;36m<module>\u001b[0;34m\u001b[0m\n\u001b[0;32m----> 1\u001b[0;31m \u001b[0mbitcoin_df_spark\u001b[0m\u001b[0;34m.\u001b[0m\u001b[0mcount\u001b[0m\u001b[0;34m(\u001b[0m\u001b[0;34m)\u001b[0m\u001b[0;34m\u001b[0m\u001b[0;34m\u001b[0m\u001b[0m\n\u001b[0m",
      "\u001b[0;32m~/spark-2.3.2-bin-hadoop2.7/python/pyspark/sql/dataframe.py\u001b[0m in \u001b[0;36mcount\u001b[0;34m(self)\u001b[0m\n\u001b[1;32m    453\u001b[0m         \u001b[0;36m2\u001b[0m\u001b[0;34m\u001b[0m\u001b[0;34m\u001b[0m\u001b[0m\n\u001b[1;32m    454\u001b[0m         \"\"\"\n\u001b[0;32m--> 455\u001b[0;31m         \u001b[0;32mreturn\u001b[0m \u001b[0mint\u001b[0m\u001b[0;34m(\u001b[0m\u001b[0mself\u001b[0m\u001b[0;34m.\u001b[0m\u001b[0m_jdf\u001b[0m\u001b[0;34m.\u001b[0m\u001b[0mcount\u001b[0m\u001b[0;34m(\u001b[0m\u001b[0;34m)\u001b[0m\u001b[0;34m)\u001b[0m\u001b[0;34m\u001b[0m\u001b[0;34m\u001b[0m\u001b[0m\n\u001b[0m\u001b[1;32m    456\u001b[0m \u001b[0;34m\u001b[0m\u001b[0m\n\u001b[1;32m    457\u001b[0m     \u001b[0;34m@\u001b[0m\u001b[0mignore_unicode_prefix\u001b[0m\u001b[0;34m\u001b[0m\u001b[0;34m\u001b[0m\u001b[0m\n",
      "\u001b[0;32m~/spark-2.3.2-bin-hadoop2.7/python/lib/py4j-0.10.7-src.zip/py4j/java_gateway.py\u001b[0m in \u001b[0;36m__call__\u001b[0;34m(self, *args)\u001b[0m\n\u001b[1;32m   1255\u001b[0m         \u001b[0manswer\u001b[0m \u001b[0;34m=\u001b[0m \u001b[0mself\u001b[0m\u001b[0;34m.\u001b[0m\u001b[0mgateway_client\u001b[0m\u001b[0;34m.\u001b[0m\u001b[0msend_command\u001b[0m\u001b[0;34m(\u001b[0m\u001b[0mcommand\u001b[0m\u001b[0;34m)\u001b[0m\u001b[0;34m\u001b[0m\u001b[0;34m\u001b[0m\u001b[0m\n\u001b[1;32m   1256\u001b[0m         return_value = get_return_value(\n\u001b[0;32m-> 1257\u001b[0;31m             answer, self.gateway_client, self.target_id, self.name)\n\u001b[0m\u001b[1;32m   1258\u001b[0m \u001b[0;34m\u001b[0m\u001b[0m\n\u001b[1;32m   1259\u001b[0m         \u001b[0;32mfor\u001b[0m \u001b[0mtemp_arg\u001b[0m \u001b[0;32min\u001b[0m \u001b[0mtemp_args\u001b[0m\u001b[0;34m:\u001b[0m\u001b[0;34m\u001b[0m\u001b[0;34m\u001b[0m\u001b[0m\n",
      "\u001b[0;32m~/spark-2.3.2-bin-hadoop2.7/python/pyspark/sql/utils.py\u001b[0m in \u001b[0;36mdeco\u001b[0;34m(*a, **kw)\u001b[0m\n\u001b[1;32m     61\u001b[0m     \u001b[0;32mdef\u001b[0m \u001b[0mdeco\u001b[0m\u001b[0;34m(\u001b[0m\u001b[0;34m*\u001b[0m\u001b[0ma\u001b[0m\u001b[0;34m,\u001b[0m \u001b[0;34m**\u001b[0m\u001b[0mkw\u001b[0m\u001b[0;34m)\u001b[0m\u001b[0;34m:\u001b[0m\u001b[0;34m\u001b[0m\u001b[0;34m\u001b[0m\u001b[0m\n\u001b[1;32m     62\u001b[0m         \u001b[0;32mtry\u001b[0m\u001b[0;34m:\u001b[0m\u001b[0;34m\u001b[0m\u001b[0;34m\u001b[0m\u001b[0m\n\u001b[0;32m---> 63\u001b[0;31m             \u001b[0;32mreturn\u001b[0m \u001b[0mf\u001b[0m\u001b[0;34m(\u001b[0m\u001b[0;34m*\u001b[0m\u001b[0ma\u001b[0m\u001b[0;34m,\u001b[0m \u001b[0;34m**\u001b[0m\u001b[0mkw\u001b[0m\u001b[0;34m)\u001b[0m\u001b[0;34m\u001b[0m\u001b[0;34m\u001b[0m\u001b[0m\n\u001b[0m\u001b[1;32m     64\u001b[0m         \u001b[0;32mexcept\u001b[0m \u001b[0mpy4j\u001b[0m\u001b[0;34m.\u001b[0m\u001b[0mprotocol\u001b[0m\u001b[0;34m.\u001b[0m\u001b[0mPy4JJavaError\u001b[0m \u001b[0;32mas\u001b[0m \u001b[0me\u001b[0m\u001b[0;34m:\u001b[0m\u001b[0;34m\u001b[0m\u001b[0;34m\u001b[0m\u001b[0m\n\u001b[1;32m     65\u001b[0m             \u001b[0ms\u001b[0m \u001b[0;34m=\u001b[0m \u001b[0me\u001b[0m\u001b[0;34m.\u001b[0m\u001b[0mjava_exception\u001b[0m\u001b[0;34m.\u001b[0m\u001b[0mtoString\u001b[0m\u001b[0;34m(\u001b[0m\u001b[0;34m)\u001b[0m\u001b[0;34m\u001b[0m\u001b[0;34m\u001b[0m\u001b[0m\n",
      "\u001b[0;32m~/spark-2.3.2-bin-hadoop2.7/python/lib/py4j-0.10.7-src.zip/py4j/protocol.py\u001b[0m in \u001b[0;36mget_return_value\u001b[0;34m(answer, gateway_client, target_id, name)\u001b[0m\n\u001b[1;32m    326\u001b[0m                 raise Py4JJavaError(\n\u001b[1;32m    327\u001b[0m                     \u001b[0;34m\"An error occurred while calling {0}{1}{2}.\\n\"\u001b[0m\u001b[0;34m.\u001b[0m\u001b[0;34m\u001b[0m\u001b[0;34m\u001b[0m\u001b[0m\n\u001b[0;32m--> 328\u001b[0;31m                     format(target_id, \".\", name), value)\n\u001b[0m\u001b[1;32m    329\u001b[0m             \u001b[0;32melse\u001b[0m\u001b[0;34m:\u001b[0m\u001b[0;34m\u001b[0m\u001b[0;34m\u001b[0m\u001b[0m\n\u001b[1;32m    330\u001b[0m                 raise Py4JError(\n",
      "\u001b[0;31mPy4JJavaError\u001b[0m: An error occurred while calling o28.count.\n: java.lang.IllegalArgumentException\n\tat org.apache.xbean.asm5.ClassReader.<init>(Unknown Source)\n\tat org.apache.xbean.asm5.ClassReader.<init>(Unknown Source)\n\tat org.apache.xbean.asm5.ClassReader.<init>(Unknown Source)\n\tat org.apache.spark.util.ClosureCleaner$.getClassReader(ClosureCleaner.scala:46)\n\tat org.apache.spark.util.FieldAccessFinder$$anon$3$$anonfun$visitMethodInsn$2.apply(ClosureCleaner.scala:449)\n\tat org.apache.spark.util.FieldAccessFinder$$anon$3$$anonfun$visitMethodInsn$2.apply(ClosureCleaner.scala:432)\n\tat scala.collection.TraversableLike$WithFilter$$anonfun$foreach$1.apply(TraversableLike.scala:733)\n\tat scala.collection.mutable.HashMap$$anon$1$$anonfun$foreach$2.apply(HashMap.scala:103)\n\tat scala.collection.mutable.HashMap$$anon$1$$anonfun$foreach$2.apply(HashMap.scala:103)\n\tat scala.collection.mutable.HashTable$class.foreachEntry(HashTable.scala:230)\n\tat scala.collection.mutable.HashMap.foreachEntry(HashMap.scala:40)\n\tat scala.collection.mutable.HashMap$$anon$1.foreach(HashMap.scala:103)\n\tat scala.collection.TraversableLike$WithFilter.foreach(TraversableLike.scala:732)\n\tat org.apache.spark.util.FieldAccessFinder$$anon$3.visitMethodInsn(ClosureCleaner.scala:432)\n\tat org.apache.xbean.asm5.ClassReader.a(Unknown Source)\n\tat org.apache.xbean.asm5.ClassReader.b(Unknown Source)\n\tat org.apache.xbean.asm5.ClassReader.accept(Unknown Source)\n\tat org.apache.xbean.asm5.ClassReader.accept(Unknown Source)\n\tat org.apache.spark.util.ClosureCleaner$$anonfun$org$apache$spark$util$ClosureCleaner$$clean$14.apply(ClosureCleaner.scala:262)\n\tat org.apache.spark.util.ClosureCleaner$$anonfun$org$apache$spark$util$ClosureCleaner$$clean$14.apply(ClosureCleaner.scala:261)\n\tat scala.collection.immutable.List.foreach(List.scala:381)\n\tat org.apache.spark.util.ClosureCleaner$.org$apache$spark$util$ClosureCleaner$$clean(ClosureCleaner.scala:261)\n\tat org.apache.spark.util.ClosureCleaner$.clean(ClosureCleaner.scala:159)\n\tat org.apache.spark.SparkContext.clean(SparkContext.scala:2299)\n\tat org.apache.spark.SparkContext.runJob(SparkContext.scala:2073)\n\tat org.apache.spark.SparkContext.runJob(SparkContext.scala:2099)\n\tat org.apache.spark.rdd.RDD$$anonfun$collect$1.apply(RDD.scala:945)\n\tat org.apache.spark.rdd.RDDOperationScope$.withScope(RDDOperationScope.scala:151)\n\tat org.apache.spark.rdd.RDDOperationScope$.withScope(RDDOperationScope.scala:112)\n\tat org.apache.spark.rdd.RDD.withScope(RDD.scala:363)\n\tat org.apache.spark.rdd.RDD.collect(RDD.scala:944)\n\tat org.apache.spark.sql.execution.SparkPlan.executeCollect(SparkPlan.scala:297)\n\tat org.apache.spark.sql.Dataset$$anonfun$count$1.apply(Dataset.scala:2775)\n\tat org.apache.spark.sql.Dataset$$anonfun$count$1.apply(Dataset.scala:2774)\n\tat org.apache.spark.sql.Dataset$$anonfun$52.apply(Dataset.scala:3259)\n\tat org.apache.spark.sql.execution.SQLExecution$.withNewExecutionId(SQLExecution.scala:77)\n\tat org.apache.spark.sql.Dataset.withAction(Dataset.scala:3258)\n\tat org.apache.spark.sql.Dataset.count(Dataset.scala:2774)\n\tat java.base/jdk.internal.reflect.NativeMethodAccessorImpl.invoke0(Native Method)\n\tat java.base/jdk.internal.reflect.NativeMethodAccessorImpl.invoke(NativeMethodAccessorImpl.java:62)\n\tat java.base/jdk.internal.reflect.DelegatingMethodAccessorImpl.invoke(DelegatingMethodAccessorImpl.java:43)\n\tat java.base/java.lang.reflect.Method.invoke(Method.java:564)\n\tat py4j.reflection.MethodInvoker.invoke(MethodInvoker.java:244)\n\tat py4j.reflection.ReflectionEngine.invoke(ReflectionEngine.java:357)\n\tat py4j.Gateway.invoke(Gateway.java:282)\n\tat py4j.commands.AbstractCommand.invokeMethod(AbstractCommand.java:132)\n\tat py4j.commands.CallCommand.execute(CallCommand.java:79)\n\tat py4j.GatewayConnection.run(GatewayConnection.java:238)\n\tat java.base/java.lang.Thread.run(Thread.java:844)\n"
     ]
    }
   ],
   "source": [
    "bitcoin_df_spark.count()"
   ]
  },
  {
   "cell_type": "code",
   "execution_count": 9,
   "metadata": {},
   "outputs": [],
   "source": [
    "sqlContext = SQLContext(sc)\n",
    "nlp = spacy.load('en_core_web_lg')\n",
    "parser = English()\n",
    "punctuations = string.punctuation\n",
    "stopwords = list(STOP_WORDS)\n",
    "def spacy_tokenizer(sentence):\n",
    "    print('in')\n",
    "    mytokens = parser(sentence[1:100000])\n",
    "    mytokens = [ word.lemma_.lower().strip() if word.lemma_ != \"-PRON-\" else word.lower_ for word in mytokens ]\n",
    "    mytokens = [ word for word in mytokens if word not in stopwords and word not in punctuations ]\n",
    "    #mytokens = \" \".join([i for i in mytokens])\n",
    "    return mytokens"
   ]
  },
  {
   "cell_type": "code",
   "execution_count": 10,
   "metadata": {},
   "outputs": [],
   "source": [
    "spacy_tokenizer_udf = udf(f = spacy_tokenizer, returnType= ArrayType(StringType()))"
   ]
  },
  {
   "cell_type": "code",
   "execution_count": 11,
   "metadata": {},
   "outputs": [],
   "source": [
    "bitcoin_df_spark = bitcoin_df_spark.withColumn(\"processed_text\", spacy_tokenizer_udf(bitcoin_df_spark['TweetText']))\n",
    "eth_df_spark = eth_df_spark.withColumn(\"processed_text\", spacy_tokenizer_udf(eth_df_spark['TweetText']))\n",
    "facebook_df_spark = facebook_df_spark.withColumn(\"processed_text\", spacy_tokenizer_udf(facebook_df_spark['TweetText']))"
   ]
  },
  {
   "cell_type": "code",
   "execution_count": null,
   "metadata": {},
   "outputs": [],
   "source": []
  }
 ],
 "metadata": {
  "kernelspec": {
   "display_name": "Python 3",
   "language": "python",
   "name": "python3"
  },
  "language_info": {
   "codemirror_mode": {
    "name": "ipython",
    "version": 3
   },
   "file_extension": ".py",
   "mimetype": "text/x-python",
   "name": "python",
   "nbconvert_exporter": "python",
   "pygments_lexer": "ipython3",
   "version": "3.6.8"
  }
 },
 "nbformat": 4,
 "nbformat_minor": 2
}
