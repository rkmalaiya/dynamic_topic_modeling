{
 "cells": [
  {
   "cell_type": "code",
   "execution_count": 9,
   "metadata": {},
   "outputs": [],
   "source": [
    "library(tidytext)\n",
    "library(stringr)\n",
    "library(tidyverse)\n",
    "library(tibble)\n",
    "library(ggplot2)\n",
    "library(lubridate)\n",
    "library(SnowballC)\n",
    "library(RSQLite)"
   ]
  },
  {
   "cell_type": "code",
   "execution_count": 2,
   "metadata": {},
   "outputs": [
    {
     "data": {
      "text/html": [
       "<ol class=list-inline>\n",
       "\t<li>'1024444451639451653,1024444451639451653,2276587183,coinspectator,0,2018-07-31 19:59,Shopin Continues to Make Blockchain History: Partners with Qryptos; Sweeps Aw... #bitcoin #ethereum #eth https://coinspectator.com/news/684586/shopin-continues-to-make-blockchain-history-partners-with-qryptos-sweeps-awards-increases …pic.twitter.com/NINqbvGrqD,0,0,0,,#bitcoin #ethereum #eth,/coinspectator/status/1024444451639451653,https://coinspectator.com/news/684586/shopin-continues-to-make-blockchain-history-partners-with-qryptos-sweeps-awards-increases,0,0,0,,,,,'</li>\n",
       "\t<li>'1024444283363962880,1024444283363962880,963657116782419970,drewawise,1,2018-07-31 19:58,You must see this video about #TRON $ trx #btc #eth #neo #ocn #eos #cryptohttps://twitter.com/justinsuntron/status/1024226332941549568 …,0,4,12,,#TRON #btc #eth #neo #ocn #eos #cryptohttps,/drewawise/status/1024444283363962880,https://twitter.com/justinsuntron/status/1024226332941549568,0,0,1,,,1024226332941549568,justinsuntron,902839045356744704'</li>\n",
       "\t<li>'1024444244830969857,1024444244830969857,46092203,maransa2006,0,2018-07-31 19:58,This tweet; \"TOP 10 PRICES DECEMBER Show you\\'re power Crypto! Boom #cryptocurrency #bitcoin #cardano #dogecoin #litecoin #IOTA #eos #ethereum #neo #xrp pic.twitter.com/K8AKm2kkOx\" hasn\\'t been tweeted more than 1 times.,0,0,0,,#cryptocurrency #bitcoin #cardano #dogecoin #litecoin #IOTA #eos #ethereum #neo #xrp,/maransa2006/status/1024444244830969857,,0,0,0,,,,,'</li>\n",
       "\t<li>'1024444257116057600,1024444257116057600,259856497,BeerdHead,0,2018-07-31 19:58,Dear all of $ Crypto Let HIM HEAR IT Hope My Main Man @RudyHavenstein boost his follows #Cryptocurrency #crypto #bitcoin $ btc #Ripple #ETH #ALTSEASON #eos #bchpls $ neo $ wtc @coinyeezy @LebowskiCapital @paulkrugman @IPM_Prime #maga #Marxism #economics #TRUMPhttps://twitter.com/RudyHavenstein/status/1024442326272290816 …,1,0,3,RudyHavenstein coinyeezy paulkrugman IPM_Prime,#Cryptocurrency #crypto #bitcoin #Ripple #ETH #ALTSEASON #eos #bchpls #maga #Marxism #economics #TRUMPhttps,/BeerdHead/status/1024444257116057600,https://twitter.com/RudyHavenstein/status/1024442326272290816,0,0,1,,,1024442326272290816,RudyHavenstein,1358146357'</li>\n",
       "\t<li>'1024444219778203650,1024444219778203650,953111456332984321,CereloMasilag,0,2018-07-31 19:58,CYDER Token Telegram Airdrop we are airdroping 1 billion CYDER tokens to our community and everyone who register to our airdrop will get 33;333 CYDER tokens and 3;333 CYDER tokens for each friend they refer. https://telegram.me/Cyder_token_bot #Airdrop #tokens #bounty #erc20 #trx #eth,0,0,0,,#Airdrop #tokens #bounty #erc20 #trx #eth,/CereloMasilag/status/1024444219778203650,https://telegram.me/Cyder_token_bot,0,0,0,,,,,'</li>\n",
       "</ol>\n"
      ],
      "text/latex": [
       "\\begin{enumerate*}\n",
       "\\item '1024444451639451653,1024444451639451653,2276587183,coinspectator,0,2018-07-31 19:59,Shopin Continues to Make Blockchain History: Partners with Qryptos; Sweeps Aw... \\#bitcoin \\#ethereum \\#eth https://coinspectator.com/news/684586/shopin-continues-to-make-blockchain-history-partners-with-qryptos-sweeps-awards-increases …pic.twitter.com/NINqbvGrqD,0,0,0,,\\#bitcoin \\#ethereum \\#eth,/coinspectator/status/1024444451639451653,https://coinspectator.com/news/684586/shopin-continues-to-make-blockchain-history-partners-with-qryptos-sweeps-awards-increases,0,0,0,,,,,'\n",
       "\\item '1024444283363962880,1024444283363962880,963657116782419970,drewawise,1,2018-07-31 19:58,You must see this video about \\#TRON \\$ trx \\#btc \\#eth \\#neo \\#ocn \\#eos \\#cryptohttps://twitter.com/justinsuntron/status/1024226332941549568 …,0,4,12,,\\#TRON \\#btc \\#eth \\#neo \\#ocn \\#eos \\#cryptohttps,/drewawise/status/1024444283363962880,https://twitter.com/justinsuntron/status/1024226332941549568,0,0,1,,,1024226332941549568,justinsuntron,902839045356744704'\n",
       "\\item '1024444244830969857,1024444244830969857,46092203,maransa2006,0,2018-07-31 19:58,This tweet; \"TOP 10 PRICES DECEMBER Show you\\textbackslash{}'re power Crypto! Boom \\#cryptocurrency \\#bitcoin \\#cardano \\#dogecoin \\#litecoin \\#IOTA \\#eos \\#ethereum \\#neo \\#xrp pic.twitter.com/K8AKm2kkOx\" hasn\\textbackslash{}'t been tweeted more than 1 times.,0,0,0,,\\#cryptocurrency \\#bitcoin \\#cardano \\#dogecoin \\#litecoin \\#IOTA \\#eos \\#ethereum \\#neo \\#xrp,/maransa2006/status/1024444244830969857,,0,0,0,,,,,'\n",
       "\\item '1024444257116057600,1024444257116057600,259856497,BeerdHead,0,2018-07-31 19:58,Dear all of \\$ Crypto Let HIM HEAR IT Hope My Main Man @RudyHavenstein boost his follows \\#Cryptocurrency \\#crypto \\#bitcoin \\$ btc \\#Ripple \\#ETH \\#ALTSEASON \\#eos \\#bchpls \\$ neo \\$ wtc @coinyeezy @LebowskiCapital @paulkrugman @IPM\\_Prime \\#maga \\#Marxism \\#economics \\#TRUMPhttps://twitter.com/RudyHavenstein/status/1024442326272290816 …,1,0,3,RudyHavenstein coinyeezy paulkrugman IPM\\_Prime,\\#Cryptocurrency \\#crypto \\#bitcoin \\#Ripple \\#ETH \\#ALTSEASON \\#eos \\#bchpls \\#maga \\#Marxism \\#economics \\#TRUMPhttps,/BeerdHead/status/1024444257116057600,https://twitter.com/RudyHavenstein/status/1024442326272290816,0,0,1,,,1024442326272290816,RudyHavenstein,1358146357'\n",
       "\\item '1024444219778203650,1024444219778203650,953111456332984321,CereloMasilag,0,2018-07-31 19:58,CYDER Token Telegram Airdrop we are airdroping 1 billion CYDER tokens to our community and everyone who register to our airdrop will get 33;333 CYDER tokens and 3;333 CYDER tokens for each friend they refer. https://telegram.me/Cyder\\_token\\_bot \\#Airdrop \\#tokens \\#bounty \\#erc20 \\#trx \\#eth,0,0,0,,\\#Airdrop \\#tokens \\#bounty \\#erc20 \\#trx \\#eth,/CereloMasilag/status/1024444219778203650,https://telegram.me/Cyder\\_token\\_bot,0,0,0,,,,,'\n",
       "\\end{enumerate*}\n"
      ],
      "text/markdown": [
       "1. '1024444451639451653,1024444451639451653,2276587183,coinspectator,0,2018-07-31 19:59,Shopin Continues to Make Blockchain History: Partners with Qryptos; Sweeps Aw... #bitcoin #ethereum #eth https://coinspectator.com/news/684586/shopin-continues-to-make-blockchain-history-partners-with-qryptos-sweeps-awards-increases …pic.twitter.com/NINqbvGrqD,0,0,0,,#bitcoin #ethereum #eth,/coinspectator/status/1024444451639451653,https://coinspectator.com/news/684586/shopin-continues-to-make-blockchain-history-partners-with-qryptos-sweeps-awards-increases,0,0,0,,,,,'\n",
       "2. '1024444283363962880,1024444283363962880,963657116782419970,drewawise,1,2018-07-31 19:58,You must see this video about #TRON $ trx #btc #eth #neo #ocn #eos #cryptohttps://twitter.com/justinsuntron/status/1024226332941549568 …,0,4,12,,#TRON #btc #eth #neo #ocn #eos #cryptohttps,/drewawise/status/1024444283363962880,https://twitter.com/justinsuntron/status/1024226332941549568,0,0,1,,,1024226332941549568,justinsuntron,902839045356744704'\n",
       "3. '1024444244830969857,1024444244830969857,46092203,maransa2006,0,2018-07-31 19:58,This tweet; \"TOP 10 PRICES DECEMBER Show you\\'re power Crypto! Boom #cryptocurrency #bitcoin #cardano #dogecoin #litecoin #IOTA #eos #ethereum #neo #xrp pic.twitter.com/K8AKm2kkOx\" hasn\\'t been tweeted more than 1 times.,0,0,0,,#cryptocurrency #bitcoin #cardano #dogecoin #litecoin #IOTA #eos #ethereum #neo #xrp,/maransa2006/status/1024444244830969857,,0,0,0,,,,,'\n",
       "4. '1024444257116057600,1024444257116057600,259856497,BeerdHead,0,2018-07-31 19:58,Dear all of $ Crypto Let HIM HEAR IT Hope My Main Man @RudyHavenstein boost his follows #Cryptocurrency #crypto #bitcoin $ btc #Ripple #ETH #ALTSEASON #eos #bchpls $ neo $ wtc @coinyeezy @LebowskiCapital @paulkrugman @IPM_Prime #maga #Marxism #economics #TRUMPhttps://twitter.com/RudyHavenstein/status/1024442326272290816 …,1,0,3,RudyHavenstein coinyeezy paulkrugman IPM_Prime,#Cryptocurrency #crypto #bitcoin #Ripple #ETH #ALTSEASON #eos #bchpls #maga #Marxism #economics #TRUMPhttps,/BeerdHead/status/1024444257116057600,https://twitter.com/RudyHavenstein/status/1024442326272290816,0,0,1,,,1024442326272290816,RudyHavenstein,1358146357'\n",
       "5. '1024444219778203650,1024444219778203650,953111456332984321,CereloMasilag,0,2018-07-31 19:58,CYDER Token Telegram Airdrop we are airdroping 1 billion CYDER tokens to our community and everyone who register to our airdrop will get 33;333 CYDER tokens and 3;333 CYDER tokens for each friend they refer. https://telegram.me/Cyder_token_bot #Airdrop #tokens #bounty #erc20 #trx #eth,0,0,0,,#Airdrop #tokens #bounty #erc20 #trx #eth,/CereloMasilag/status/1024444219778203650,https://telegram.me/Cyder_token_bot,0,0,0,,,,,'\n",
       "\n",
       "\n"
      ],
      "text/plain": [
       "[1] \"1024444451639451653,1024444451639451653,2276587183,coinspectator,0,2018-07-31 19:59,Shopin Continues to Make Blockchain History: Partners with Qryptos; Sweeps Aw... #bitcoin #ethereum #eth https://coinspectator.com/news/684586/shopin-continues-to-make-blockchain-history-partners-with-qryptos-sweeps-awards-increases …pic.twitter.com/NINqbvGrqD,0,0,0,,#bitcoin #ethereum #eth,/coinspectator/status/1024444451639451653,https://coinspectator.com/news/684586/shopin-continues-to-make-blockchain-history-partners-with-qryptos-sweeps-awards-increases,0,0,0,,,,,\"                                                                                                                                                                 \n",
       "[2] \"1024444283363962880,1024444283363962880,963657116782419970,drewawise,1,2018-07-31 19:58,You must see this video about #TRON $ trx #btc #eth #neo #ocn #eos #cryptohttps://twitter.com/justinsuntron/status/1024226332941549568 …,0,4,12,,#TRON #btc #eth #neo #ocn #eos #cryptohttps,/drewawise/status/1024444283363962880,https://twitter.com/justinsuntron/status/1024226332941549568,0,0,1,,,1024226332941549568,justinsuntron,902839045356744704\"                                                                                                                                                                                                                                                                                         \n",
       "[3] \"1024444244830969857,1024444244830969857,46092203,maransa2006,0,2018-07-31 19:58,This tweet; \\\"TOP 10 PRICES DECEMBER Show you're power Crypto! Boom #cryptocurrency #bitcoin #cardano #dogecoin #litecoin #IOTA #eos #ethereum #neo #xrp pic.twitter.com/K8AKm2kkOx\\\" hasn't been tweeted more than 1 times.,0,0,0,,#cryptocurrency #bitcoin #cardano #dogecoin #litecoin #IOTA #eos #ethereum #neo #xrp,/maransa2006/status/1024444244830969857,,0,0,0,,,,,\"                                                                                                                                                                                                                                                                                 \n",
       "[4] \"1024444257116057600,1024444257116057600,259856497,BeerdHead,0,2018-07-31 19:58,Dear all of $ Crypto Let HIM HEAR IT Hope My Main Man @RudyHavenstein boost his follows #Cryptocurrency #crypto #bitcoin $ btc #Ripple #ETH #ALTSEASON #eos #bchpls $ neo $ wtc @coinyeezy @LebowskiCapital @paulkrugman @IPM_Prime #maga #Marxism #economics #TRUMPhttps://twitter.com/RudyHavenstein/status/1024442326272290816 …,1,0,3,RudyHavenstein coinyeezy paulkrugman IPM_Prime,#Cryptocurrency #crypto #bitcoin #Ripple #ETH #ALTSEASON #eos #bchpls #maga #Marxism #economics #TRUMPhttps,/BeerdHead/status/1024444257116057600,https://twitter.com/RudyHavenstein/status/1024442326272290816,0,0,1,,,1024442326272290816,RudyHavenstein,1358146357\"\n",
       "[5] \"1024444219778203650,1024444219778203650,953111456332984321,CereloMasilag,0,2018-07-31 19:58,CYDER Token Telegram Airdrop we are airdroping 1 billion CYDER tokens to our community and everyone who register to our airdrop will get 33;333 CYDER tokens and 3;333 CYDER tokens for each friend they refer. https://telegram.me/Cyder_token_bot #Airdrop #tokens #bounty #erc20 #trx #eth,0,0,0,,#Airdrop #tokens #bounty #erc20 #trx #eth,/CereloMasilag/status/1024444219778203650,https://telegram.me/Cyder_token_bot,0,0,0,,,,,\"                                                                                                                                                                                                          "
      ]
     },
     "metadata": {},
     "output_type": "display_data"
    }
   ],
   "source": [
    "system('head -n 5 ../../data/eth_1aug15_1aug18/0_sorted.csv', intern = TRUE)"
   ]
  },
  {
   "cell_type": "code",
   "execution_count": 3,
   "metadata": {},
   "outputs": [
    {
     "data": {
      "text/html": [
       "<ol class=list-inline>\n",
       "\t<li>'627275536557977600,627275536557977600,18826837,PinkSapphire6,0,2015-07-31 20:31,I love #hiphop from the 90s. These were true #disstrack\\'s! #hitemup #ether #whoshotya #tupac #biggie #meekmill #drakepic.twitter.com/1VGl5csN9w,0,0,0,,#hiphop #disstrack #hitemup #ether #whoshotya #tupac #biggie #meekmill #drakepic,/PinkSapphire6/status/627275536557977600,,0,0,0,,,,,'</li>\n",
       "\t<li>'627272961100251136,627272961100251136,375765531,RealMissJayVee,0,2015-07-31 20:21,#Ether #Nas https://instagram.com/p/50glPhne38/,0,0,0,,#Ether #Nas,/RealMissJayVee/status/627272961100251136,https://instagram.com/p/50glPhne38/,0,0,0,,,,,'</li>\n",
       "\t<li>'627272113834037249,615624685695434752,269455040,ERBODYKNOWE,0,2015-07-31 20:18,@ERBODYKNOWE: All #Producers send #beats to my email kenneye2@gmail.com #newproject #music #indy #ether #otw,1,1,5,ERBODYKNOWE,#Producers #beats #newproject #music #indy #ether #otw,/ERBODYKNOWE/status/627272113834037249,,1,1,0,269455040,@ERBODYKNOWE,,,'</li>\n",
       "\t<li>'627271926692495360,627271926692495360,18683285,vincentueber,0,2015-07-31 20:17,I bought #Bitcoin in 2011 b/c central banks print (and continue to) print fiat $ to infinity. I bought #Ether in 2014 b/c #blockchain tech.,0,1,0,,#Bitcoin #Ether #blockchain,/vincentueber/status/627271926692495360,,0,0,0,,,,,'</li>\n",
       "\t<li>'Tweet ID, Conversation ID, Author Id , Author Name, isVerified, DateTime, Tweet Text, Replies, Retweets, Favorites, Mentions, Hashtags, Permalink, URLs, isPartOfConversation, isReply, isRetweet, Reply To User ID, Reply To User Name, Quoted Tweet ID, Quoted Tweet User Name, Quoted Tweet User ID'</li>\n",
       "</ol>\n"
      ],
      "text/latex": [
       "\\begin{enumerate*}\n",
       "\\item '627275536557977600,627275536557977600,18826837,PinkSapphire6,0,2015-07-31 20:31,I love \\#hiphop from the 90s. These were true \\#disstrack\\textbackslash{}'s! \\#hitemup \\#ether \\#whoshotya \\#tupac \\#biggie \\#meekmill \\#drakepic.twitter.com/1VGl5csN9w,0,0,0,,\\#hiphop \\#disstrack \\#hitemup \\#ether \\#whoshotya \\#tupac \\#biggie \\#meekmill \\#drakepic,/PinkSapphire6/status/627275536557977600,,0,0,0,,,,,'\n",
       "\\item '627272961100251136,627272961100251136,375765531,RealMissJayVee,0,2015-07-31 20:21,\\#Ether \\#Nas https://instagram.com/p/50glPhne38/,0,0,0,,\\#Ether \\#Nas,/RealMissJayVee/status/627272961100251136,https://instagram.com/p/50glPhne38/,0,0,0,,,,,'\n",
       "\\item '627272113834037249,615624685695434752,269455040,ERBODYKNOWE,0,2015-07-31 20:18,@ERBODYKNOWE: All \\#Producers send \\#beats to my email kenneye2@gmail.com \\#newproject \\#music \\#indy \\#ether \\#otw,1,1,5,ERBODYKNOWE,\\#Producers \\#beats \\#newproject \\#music \\#indy \\#ether \\#otw,/ERBODYKNOWE/status/627272113834037249,,1,1,0,269455040,@ERBODYKNOWE,,,'\n",
       "\\item '627271926692495360,627271926692495360,18683285,vincentueber,0,2015-07-31 20:17,I bought \\#Bitcoin in 2011 b/c central banks print (and continue to) print fiat \\$ to infinity. I bought \\#Ether in 2014 b/c \\#blockchain tech.,0,1,0,,\\#Bitcoin \\#Ether \\#blockchain,/vincentueber/status/627271926692495360,,0,0,0,,,,,'\n",
       "\\item 'Tweet ID, Conversation ID, Author Id , Author Name, isVerified, DateTime, Tweet Text, Replies, Retweets, Favorites, Mentions, Hashtags, Permalink, URLs, isPartOfConversation, isReply, isRetweet, Reply To User ID, Reply To User Name, Quoted Tweet ID, Quoted Tweet User Name, Quoted Tweet User ID'\n",
       "\\end{enumerate*}\n"
      ],
      "text/markdown": [
       "1. '627275536557977600,627275536557977600,18826837,PinkSapphire6,0,2015-07-31 20:31,I love #hiphop from the 90s. These were true #disstrack\\'s! #hitemup #ether #whoshotya #tupac #biggie #meekmill #drakepic.twitter.com/1VGl5csN9w,0,0,0,,#hiphop #disstrack #hitemup #ether #whoshotya #tupac #biggie #meekmill #drakepic,/PinkSapphire6/status/627275536557977600,,0,0,0,,,,,'\n",
       "2. '627272961100251136,627272961100251136,375765531,RealMissJayVee,0,2015-07-31 20:21,#Ether #Nas https://instagram.com/p/50glPhne38/,0,0,0,,#Ether #Nas,/RealMissJayVee/status/627272961100251136,https://instagram.com/p/50glPhne38/,0,0,0,,,,,'\n",
       "3. '627272113834037249,615624685695434752,269455040,ERBODYKNOWE,0,2015-07-31 20:18,@ERBODYKNOWE: All #Producers send #beats to my email kenneye2@gmail.com #newproject #music #indy #ether #otw,1,1,5,ERBODYKNOWE,#Producers #beats #newproject #music #indy #ether #otw,/ERBODYKNOWE/status/627272113834037249,,1,1,0,269455040,@ERBODYKNOWE,,,'\n",
       "4. '627271926692495360,627271926692495360,18683285,vincentueber,0,2015-07-31 20:17,I bought #Bitcoin in 2011 b/c central banks print (and continue to) print fiat $ to infinity. I bought #Ether in 2014 b/c #blockchain tech.,0,1,0,,#Bitcoin #Ether #blockchain,/vincentueber/status/627271926692495360,,0,0,0,,,,,'\n",
       "5. 'Tweet ID, Conversation ID, Author Id , Author Name, isVerified, DateTime, Tweet Text, Replies, Retweets, Favorites, Mentions, Hashtags, Permalink, URLs, isPartOfConversation, isReply, isRetweet, Reply To User ID, Reply To User Name, Quoted Tweet ID, Quoted Tweet User Name, Quoted Tweet User ID'\n",
       "\n",
       "\n"
      ],
      "text/plain": [
       "[1] \"627275536557977600,627275536557977600,18826837,PinkSapphire6,0,2015-07-31 20:31,I love #hiphop from the 90s. These were true #disstrack's! #hitemup #ether #whoshotya #tupac #biggie #meekmill #drakepic.twitter.com/1VGl5csN9w,0,0,0,,#hiphop #disstrack #hitemup #ether #whoshotya #tupac #biggie #meekmill #drakepic,/PinkSapphire6/status/627275536557977600,,0,0,0,,,,,\"\n",
       "[2] \"627272961100251136,627272961100251136,375765531,RealMissJayVee,0,2015-07-31 20:21,#Ether #Nas https://instagram.com/p/50glPhne38/,0,0,0,,#Ether #Nas,/RealMissJayVee/status/627272961100251136,https://instagram.com/p/50glPhne38/,0,0,0,,,,,\"                                                                                                                               \n",
       "[3] \"627272113834037249,615624685695434752,269455040,ERBODYKNOWE,0,2015-07-31 20:18,@ERBODYKNOWE: All #Producers send #beats to my email kenneye2@gmail.com #newproject #music #indy #ether #otw,1,1,5,ERBODYKNOWE,#Producers #beats #newproject #music #indy #ether #otw,/ERBODYKNOWE/status/627272113834037249,,1,1,0,269455040,@ERBODYKNOWE,,,\"                                \n",
       "[4] \"627271926692495360,627271926692495360,18683285,vincentueber,0,2015-07-31 20:17,I bought #Bitcoin in 2011 b/c central banks print (and continue to) print fiat $ to infinity. I bought #Ether in 2014 b/c #blockchain tech.,0,1,0,,#Bitcoin #Ether #blockchain,/vincentueber/status/627271926692495360,,0,0,0,,,,,\"                                                           \n",
       "[5] \"Tweet ID, Conversation ID, Author Id , Author Name, isVerified, DateTime, Tweet Text, Replies, Retweets, Favorites, Mentions, Hashtags, Permalink, URLs, isPartOfConversation, isReply, isRetweet, Reply To User ID, Reply To User Name, Quoted Tweet ID, Quoted Tweet User Name, Quoted Tweet User ID\"                                                                      "
      ]
     },
     "metadata": {},
     "output_type": "display_data"
    }
   ],
   "source": [
    "system('tail -n 5 ../../data/eth_1aug15_1aug18/0_sorted.csv', intern = TRUE)"
   ]
  },
  {
   "cell_type": "code",
   "execution_count": 11,
   "metadata": {},
   "outputs": [],
   "source": [
    "con = dbConnect(SQLite(), dbname=\"../../data/twitter.db\")"
   ]
  },
  {
   "cell_type": "code",
   "execution_count": null,
   "metadata": {},
   "outputs": [],
   "source": [
    "tweets_df <- read.csv('../../data/eth_1aug15_1aug18/0_sorted.csv', nrow=1484777)\n",
    "head(tweets_df)"
   ]
  },
  {
   "cell_type": "code",
   "execution_count": null,
   "metadata": {},
   "outputs": [],
   "source": [
    "remove_reg <- \"&amp;|&lt;|&gt;\"\n",
    "unnest_reg  <- \"([^A-Za-z_\\\\d#@']|'(?![A-Za-z_\\\\d#@]))\"\n",
    "\n",
    "tidy_tweets <- tweets_df %>% \n",
    "\n",
    "filter(!str_detect(Tweet.Text, \"^RT\")) %>%\n",
    "mutate(text = str_remove_all(Tweet.Text, remove_reg)) %>%\n",
    "\n",
    "unnest_tokens(word, text, token = \"tweets\") %>%\n",
    "mutate(word=wordStem(word, language = 'english')) %>%\n",
    "\n",
    "filter(!word %in% stop_words$word,\n",
    "     !word %in% str_remove_all(stop_words$word, \"'\"),\n",
    "     str_detect(word, \"[a-z]\"))"
   ]
  },
  {
   "cell_type": "code",
   "execution_count": null,
   "metadata": {},
   "outputs": [],
   "source": [
    "tidy_tweets$DateTime <- tidy_tweets$DateTime %>% as.Date(format = '%Y-%m-%d')\n",
    "str(tidy_tweets)"
   ]
  },
  {
   "cell_type": "code",
   "execution_count": null,
   "metadata": {},
   "outputs": [],
   "source": [
    "summary(tidy_tweets$DateTime)"
   ]
  },
  {
   "cell_type": "code",
   "execution_count": null,
   "metadata": {},
   "outputs": [],
   "source": [
    "tidy_tweets %>% count(DateTime) %>% \n",
    "ggplot() + aes(x=DateTime, y=n) + geom_line() +geom_point() + ylab('No of Tweets')\n"
   ]
  },
  {
   "cell_type": "markdown",
   "metadata": {},
   "source": [
    "Calculate frequency of words against each month"
   ]
  },
  {
   "cell_type": "code",
   "execution_count": null,
   "metadata": {},
   "outputs": [],
   "source": [
    "tidy_tweets_freq <- tidy_tweets %>% mutate(week = week(DateTime)) %>% group_by(week) %>% count(word, sort=TRUE) %>% \n",
    "left_join(tidy_tweets %>% mutate(week = week(DateTime)) %>% group_by(week) %>% summarize(total=n())) %>% \n",
    "mutate(freq = n/total) %>% select(week, word, freq, n, total)"
   ]
  },
  {
   "cell_type": "code",
   "execution_count": null,
   "metadata": {},
   "outputs": [],
   "source": [
    "tidy_tweets_freq %<>% arrange(desc(n))  %>% group_by(week) %>% top_n(freq, n=5) \n",
    "tidy_tweets_freq %>% arrange(week)"
   ]
  },
  {
   "cell_type": "markdown",
   "metadata": {},
   "source": [
    "Let's convert words to columns (dimensions)"
   ]
  },
  {
   "cell_type": "code",
   "execution_count": null,
   "metadata": {},
   "outputs": [],
   "source": [
    "tidy_tweets_plot <- tidy_tweets_freq %>% select(-n,-total) %>% spread(week, freq, fill = 0) "
   ]
  },
  {
   "cell_type": "code",
   "execution_count": null,
   "metadata": {},
   "outputs": [],
   "source": [
    "saveRDS(tidy_tweets_plot, file = 'tidy_tweets_per_week_eth.rds')\n",
    "tidy_tweets_plot"
   ]
  },
  {
   "cell_type": "code",
   "execution_count": null,
   "metadata": {},
   "outputs": [],
   "source": [
    "tidy_tweets_plot %>% top_n(n = 1000) %>% ggplot() + aes('29','30') + geom_jitter() + geom_text(aes(label = word), check_overlap = TRUE, vjust = 0)"
   ]
  },
  {
   "cell_type": "code",
   "execution_count": null,
   "metadata": {},
   "outputs": [],
   "source": []
  },
  {
   "cell_type": "code",
   "execution_count": null,
   "metadata": {},
   "outputs": [],
   "source": []
  },
  {
   "cell_type": "code",
   "execution_count": null,
   "metadata": {},
   "outputs": [],
   "source": []
  },
  {
   "cell_type": "code",
   "execution_count": null,
   "metadata": {},
   "outputs": [],
   "source": []
  }
 ],
 "metadata": {
  "kernelspec": {
   "display_name": "R",
   "language": "R",
   "name": "ir"
  },
  "language_info": {
   "codemirror_mode": "r",
   "file_extension": ".r",
   "mimetype": "text/x-r-source",
   "name": "R",
   "pygments_lexer": "r",
   "version": "3.5.0"
  }
 },
 "nbformat": 4,
 "nbformat_minor": 2
}
