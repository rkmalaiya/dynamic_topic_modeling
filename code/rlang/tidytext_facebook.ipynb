{
 "cells": [
  {
   "cell_type": "code",
   "execution_count": 1,
   "metadata": {},
   "outputs": [
    {
     "name": "stderr",
     "output_type": "stream",
     "text": [
      "Warning message:\n",
      "“package ‘tidytext’ was built under R version 3.5.1”── Attaching packages ─────────────────────────────────────── tidyverse 1.2.1 ──\n",
      "✔ ggplot2 2.2.1     ✔ readr   1.1.1\n",
      "✔ tibble  1.4.2     ✔ purrr   0.2.4\n",
      "✔ tidyr   0.8.0     ✔ dplyr   0.7.4\n",
      "✔ ggplot2 2.2.1     ✔ forcats 0.3.0\n",
      "── Conflicts ────────────────────────────────────────── tidyverse_conflicts() ──\n",
      "✖ dplyr::filter() masks stats::filter()\n",
      "✖ dplyr::lag()    masks stats::lag()\n",
      "\n",
      "Attaching package: ‘lubridate’\n",
      "\n",
      "The following object is masked from ‘package:base’:\n",
      "\n",
      "    date\n",
      "\n",
      "Warning message:\n",
      "“package ‘SnowballC’ was built under R version 3.5.1”"
     ]
    }
   ],
   "source": [
    "library(tidytext)\n",
    "library(stringr)\n",
    "library(tidyverse)\n",
    "library(tibble)\n",
    "library(ggplot2)\n",
    "library(lubridate)\n",
    "library(SnowballC)"
   ]
  },
  {
   "cell_type": "code",
   "execution_count": 2,
   "metadata": {},
   "outputs": [
    {
     "data": {
      "text/html": [
       "<ol class=list-inline>\n",
       "\t<li>'1035678576325025792,1035678576325025792,1850148601,kris_jayne,0,2018-08-31 19:59,★★LABOR DAY #GIVEAWAY★★ Up for grabs: (1) e-book copy of: Thirsty Hearts Series: Books 1-4 + Bonus Novella - To enter: Check out my pinned post on my #facebook page! - https://m.facebook.com/krisjayneauthor/ … - #Giveaway #LaborDay #FreeBooks #EnterNow #KrisJayne #thirstyheartsseries #RTpic.twitter.com/3Zb2Oqr1ZW,0,0,1,,#GIVEAWAY #facebook #Giveaway #LaborDay #FreeBooks #EnterNow #KrisJayne #thirstyheartsseries #RTpic,/kris_jayne/status/1035678576325025792,https://m.facebook.com/krisjayneauthor/,0,0,0,,,,,'</li>\n",
       "\t<li>'1035678596109496320,1035678596109496320,322136702,RipoffReport,0,2018-08-31 19:59,IT MAY NOT BE A SCAM IN YOUR STATE TODAY – BUT IT MAY BE TOMORROW. Scams are just a robocall/email away - Daily Sharing of News on #Twitter #Facebook #Instagram #Pinterest; and Consumer\\'s Reports at http://www.ripoffreport.com https://pin.it/om7pyatxbjrah2 via @pinterest,0,0,1,Pinterest,#Twitter #Facebook #Instagram #Pinterest,/RipoffReport/status/1035678596109496320,http://www.ripoffreport.com;https://pin.it/om7pyatxbjrah2,0,0,0,,,,,'</li>\n",
       "\t<li>'1035678488735428608,1035678488735428608,1135955640,roneebsas,0,2018-08-31 19:59,&lt;&lt; ¡Nos renovamos! &gt;&gt; Incorporamos la #tienda de #facebook a nuestro #universo #digital para que estemos más cerca... + Te presentamos el nuevo set de #riñoneras y #billeteras con distintos compartimentos para llevar... https://www.facebook.com/roneebsas/posts/10160667024840328 …,0,0,0,,#tienda #facebook #universo #digital #riñoneras #billeteras,/roneebsas/status/1035678488735428608,https://www.facebook.com/roneebsas/posts/10160667024840328,0,0,0,,,,,'</li>\n",
       "\t<li>'1035678296879575040,1035678296879575040,2793922030,mostwatchedvids,0,2018-08-31 19:58,Zion &amp; #Lennox - Hola (Video Oficial) #http://www.facebook.com/NewZionyLennox #Instagram #Facebook... http://mostwatched.trendolizer.com/2018/09/zion-lennox---hola-video-oficial.html …pic.twitter.com/lSGdaq9G2J,0,0,0,,#Lennox #http #Instagram #Facebook,/mostwatchedvids/status/1035678296879575040,http://mostwatched.trendolizer.com/2018/09/zion-lennox---hola-video-oficial.html,0,0,0,,,,,'</li>\n",
       "\t<li>'1035678036480294914,1035678036480294914,1003678295249113088,NortonCustome,1,2018-08-31 19:57,#Facebook #Password #Recovery 1800+307+9891 #phone #number http://facebookservicenumberusa.blogspot.com/2018/07/facebook-account-hacked-uncle-knew-1800.htmlVisit … … More Info- http://www.facebooksupportsnumber.com Toll Free Number- 1800+307+9891 Contact Facebook Team California; United State Thanks &amp; Regards https://twitter.com/vittoriozucconi/status/1035660488208736257 …,0,0,0,,#Facebook #Password #Recovery #phone #number,/NortonCustome/status/1035678036480294914,http://facebookservicenumberusa.blogspot.com/2018/07/facebook-account-hacked-uncle-knew-1800.htmlVisit;http://www.facebooksupportsnumber.com;https://twitter.com/vittoriozucconi/status/1035660488208736257,0,0,1,,,1035660488208736257,vittoriozucconi,419918470'</li>\n",
       "</ol>\n"
      ],
      "text/latex": [
       "\\begin{enumerate*}\n",
       "\\item '1035678576325025792,1035678576325025792,1850148601,kris\\_jayne,0,2018-08-31 19:59,★★LABOR DAY \\#GIVEAWAY★★ Up for grabs: (1) e-book copy of: Thirsty Hearts Series: Books 1-4 + Bonus Novella - To enter: Check out my pinned post on my \\#facebook page! - https://m.facebook.com/krisjayneauthor/ … - \\#Giveaway \\#LaborDay \\#FreeBooks \\#EnterNow \\#KrisJayne \\#thirstyheartsseries \\#RTpic.twitter.com/3Zb2Oqr1ZW,0,0,1,,\\#GIVEAWAY \\#facebook \\#Giveaway \\#LaborDay \\#FreeBooks \\#EnterNow \\#KrisJayne \\#thirstyheartsseries \\#RTpic,/kris\\_jayne/status/1035678576325025792,https://m.facebook.com/krisjayneauthor/,0,0,0,,,,,'\n",
       "\\item '1035678596109496320,1035678596109496320,322136702,RipoffReport,0,2018-08-31 19:59,IT MAY NOT BE A SCAM IN YOUR STATE TODAY – BUT IT MAY BE TOMORROW. Scams are just a robocall/email away - Daily Sharing of News on \\#Twitter \\#Facebook \\#Instagram \\#Pinterest; and Consumer\\textbackslash{}'s Reports at http://www.ripoffreport.com https://pin.it/om7pyatxbjrah2 via @pinterest,0,0,1,Pinterest,\\#Twitter \\#Facebook \\#Instagram \\#Pinterest,/RipoffReport/status/1035678596109496320,http://www.ripoffreport.com;https://pin.it/om7pyatxbjrah2,0,0,0,,,,,'\n",
       "\\item '1035678488735428608,1035678488735428608,1135955640,roneebsas,0,2018-08-31 19:59,<< ¡Nos renovamos! >> Incorporamos la \\#tienda de \\#facebook a nuestro \\#universo \\#digital para que estemos más cerca... + Te presentamos el nuevo set de \\#riñoneras y \\#billeteras con distintos compartimentos para llevar... https://www.facebook.com/roneebsas/posts/10160667024840328 …,0,0,0,,\\#tienda \\#facebook \\#universo \\#digital \\#riñoneras \\#billeteras,/roneebsas/status/1035678488735428608,https://www.facebook.com/roneebsas/posts/10160667024840328,0,0,0,,,,,'\n",
       "\\item '1035678296879575040,1035678296879575040,2793922030,mostwatchedvids,0,2018-08-31 19:58,Zion \\& \\#Lennox - Hola (Video Oficial) \\#http://www.facebook.com/NewZionyLennox \\#Instagram \\#Facebook... http://mostwatched.trendolizer.com/2018/09/zion-lennox---hola-video-oficial.html …pic.twitter.com/lSGdaq9G2J,0,0,0,,\\#Lennox \\#http \\#Instagram \\#Facebook,/mostwatchedvids/status/1035678296879575040,http://mostwatched.trendolizer.com/2018/09/zion-lennox---hola-video-oficial.html,0,0,0,,,,,'\n",
       "\\item '1035678036480294914,1035678036480294914,1003678295249113088,NortonCustome,1,2018-08-31 19:57,\\#Facebook \\#Password \\#Recovery 1800+307+9891 \\#phone \\#number http://facebookservicenumberusa.blogspot.com/2018/07/facebook-account-hacked-uncle-knew-1800.htmlVisit … … More Info- http://www.facebooksupportsnumber.com Toll Free Number- 1800+307+9891 Contact Facebook Team California; United State Thanks \\& Regards https://twitter.com/vittoriozucconi/status/1035660488208736257 …,0,0,0,,\\#Facebook \\#Password \\#Recovery \\#phone \\#number,/NortonCustome/status/1035678036480294914,http://facebookservicenumberusa.blogspot.com/2018/07/facebook-account-hacked-uncle-knew-1800.htmlVisit;http://www.facebooksupportsnumber.com;https://twitter.com/vittoriozucconi/status/1035660488208736257,0,0,1,,,1035660488208736257,vittoriozucconi,419918470'\n",
       "\\end{enumerate*}\n"
      ],
      "text/markdown": [
       "1. '1035678576325025792,1035678576325025792,1850148601,kris_jayne,0,2018-08-31 19:59,★★LABOR DAY #GIVEAWAY★★ Up for grabs: (1) e-book copy of: Thirsty Hearts Series: Books 1-4 + Bonus Novella - To enter: Check out my pinned post on my #facebook page! - https://m.facebook.com/krisjayneauthor/ … - #Giveaway #LaborDay #FreeBooks #EnterNow #KrisJayne #thirstyheartsseries #RTpic.twitter.com/3Zb2Oqr1ZW,0,0,1,,#GIVEAWAY #facebook #Giveaway #LaborDay #FreeBooks #EnterNow #KrisJayne #thirstyheartsseries #RTpic,/kris_jayne/status/1035678576325025792,https://m.facebook.com/krisjayneauthor/,0,0,0,,,,,'\n",
       "2. '1035678596109496320,1035678596109496320,322136702,RipoffReport,0,2018-08-31 19:59,IT MAY NOT BE A SCAM IN YOUR STATE TODAY – BUT IT MAY BE TOMORROW. Scams are just a robocall/email away - Daily Sharing of News on #Twitter #Facebook #Instagram #Pinterest; and Consumer\\'s Reports at http://www.ripoffreport.com https://pin.it/om7pyatxbjrah2 via @pinterest,0,0,1,Pinterest,#Twitter #Facebook #Instagram #Pinterest,/RipoffReport/status/1035678596109496320,http://www.ripoffreport.com;https://pin.it/om7pyatxbjrah2,0,0,0,,,,,'\n",
       "3. '1035678488735428608,1035678488735428608,1135955640,roneebsas,0,2018-08-31 19:59,&lt;&lt; ¡Nos renovamos! &gt;&gt; Incorporamos la #tienda de #facebook a nuestro #universo #digital para que estemos más cerca... + Te presentamos el nuevo set de #riñoneras y #billeteras con distintos compartimentos para llevar... https://www.facebook.com/roneebsas/posts/10160667024840328 …,0,0,0,,#tienda #facebook #universo #digital #riñoneras #billeteras,/roneebsas/status/1035678488735428608,https://www.facebook.com/roneebsas/posts/10160667024840328,0,0,0,,,,,'\n",
       "4. '1035678296879575040,1035678296879575040,2793922030,mostwatchedvids,0,2018-08-31 19:58,Zion &amp; #Lennox - Hola (Video Oficial) #http://www.facebook.com/NewZionyLennox #Instagram #Facebook... http://mostwatched.trendolizer.com/2018/09/zion-lennox---hola-video-oficial.html …pic.twitter.com/lSGdaq9G2J,0,0,0,,#Lennox #http #Instagram #Facebook,/mostwatchedvids/status/1035678296879575040,http://mostwatched.trendolizer.com/2018/09/zion-lennox---hola-video-oficial.html,0,0,0,,,,,'\n",
       "5. '1035678036480294914,1035678036480294914,1003678295249113088,NortonCustome,1,2018-08-31 19:57,#Facebook #Password #Recovery 1800+307+9891 #phone #number http://facebookservicenumberusa.blogspot.com/2018/07/facebook-account-hacked-uncle-knew-1800.htmlVisit … … More Info- http://www.facebooksupportsnumber.com Toll Free Number- 1800+307+9891 Contact Facebook Team California; United State Thanks &amp; Regards https://twitter.com/vittoriozucconi/status/1035660488208736257 …,0,0,0,,#Facebook #Password #Recovery #phone #number,/NortonCustome/status/1035678036480294914,http://facebookservicenumberusa.blogspot.com/2018/07/facebook-account-hacked-uncle-knew-1800.htmlVisit;http://www.facebooksupportsnumber.com;https://twitter.com/vittoriozucconi/status/1035660488208736257,0,0,1,,,1035660488208736257,vittoriozucconi,419918470'\n",
       "\n",
       "\n"
      ],
      "text/plain": [
       "[1] \"1035678576325025792,1035678576325025792,1850148601,kris_jayne,0,2018-08-31 19:59,★★LABOR DAY #GIVEAWAY★★ Up for grabs: (1) e-book copy of: Thirsty Hearts Series: Books 1-4 + Bonus Novella - To enter: Check out my pinned post on my #facebook page! - https://m.facebook.com/krisjayneauthor/ … - #Giveaway #LaborDay #FreeBooks #EnterNow #KrisJayne #thirstyheartsseries #RTpic.twitter.com/3Zb2Oqr1ZW,0,0,1,,#GIVEAWAY #facebook #Giveaway #LaborDay #FreeBooks #EnterNow #KrisJayne #thirstyheartsseries #RTpic,/kris_jayne/status/1035678576325025792,https://m.facebook.com/krisjayneauthor/,0,0,0,,,,,\"                                                                                                                                                                                                                                    \n",
       "[2] \"1035678596109496320,1035678596109496320,322136702,RipoffReport,0,2018-08-31 19:59,IT MAY NOT BE A SCAM IN YOUR STATE TODAY – BUT IT MAY BE TOMORROW. Scams are just a robocall/email away - Daily Sharing of News on #Twitter #Facebook #Instagram #Pinterest; and Consumer's Reports at http://www.ripoffreport.com https://pin.it/om7pyatxbjrah2 via @pinterest,0,0,1,Pinterest,#Twitter #Facebook #Instagram #Pinterest,/RipoffReport/status/1035678596109496320,http://www.ripoffreport.com;https://pin.it/om7pyatxbjrah2,0,0,0,,,,,\"                                                                                                                                                                                                                                                                                                            \n",
       "[3] \"1035678488735428608,1035678488735428608,1135955640,roneebsas,0,2018-08-31 19:59,<< ¡Nos renovamos! >> Incorporamos la #tienda de #facebook a nuestro #universo #digital para que estemos más cerca... + Te presentamos el nuevo set de #riñoneras y #billeteras con distintos compartimentos para llevar... https://www.facebook.com/roneebsas/posts/10160667024840328 …,0,0,0,,#tienda #facebook #universo #digital #riñoneras #billeteras,/roneebsas/status/1035678488735428608,https://www.facebook.com/roneebsas/posts/10160667024840328,0,0,0,,,,,\"                                                                                                                                                                                                                                                                                             \n",
       "[4] \"1035678296879575040,1035678296879575040,2793922030,mostwatchedvids,0,2018-08-31 19:58,Zion & #Lennox - Hola (Video Oficial) #http://www.facebook.com/NewZionyLennox #Instagram #Facebook... http://mostwatched.trendolizer.com/2018/09/zion-lennox---hola-video-oficial.html …pic.twitter.com/lSGdaq9G2J,0,0,0,,#Lennox #http #Instagram #Facebook,/mostwatchedvids/status/1035678296879575040,http://mostwatched.trendolizer.com/2018/09/zion-lennox---hola-video-oficial.html,0,0,0,,,,,\"                                                                                                                                                                                                                                                                                                                                                          \n",
       "[5] \"1035678036480294914,1035678036480294914,1003678295249113088,NortonCustome,1,2018-08-31 19:57,#Facebook #Password #Recovery 1800+307+9891 #phone #number http://facebookservicenumberusa.blogspot.com/2018/07/facebook-account-hacked-uncle-knew-1800.htmlVisit … … More Info- http://www.facebooksupportsnumber.com Toll Free Number- 1800+307+9891 Contact Facebook Team California; United State Thanks & Regards https://twitter.com/vittoriozucconi/status/1035660488208736257 …,0,0,0,,#Facebook #Password #Recovery #phone #number,/NortonCustome/status/1035678036480294914,http://facebookservicenumberusa.blogspot.com/2018/07/facebook-account-hacked-uncle-knew-1800.htmlVisit;http://www.facebooksupportsnumber.com;https://twitter.com/vittoriozucconi/status/1035660488208736257,0,0,1,,,1035660488208736257,vittoriozucconi,419918470\""
      ]
     },
     "metadata": {},
     "output_type": "display_data"
    }
   ],
   "source": [
    "system('head -n 5 ../../data/facebook3March18to1Sep18/0_sorted.csv', intern = TRUE)"
   ]
  },
  {
   "cell_type": "code",
   "execution_count": 3,
   "metadata": {},
   "outputs": [
    {
     "data": {
      "text/html": [
       "<ol class=list-inline>\n",
       "\t<li>'970376555896569856,970376555896569856,519942441,City2CityPR,0,2018-03-04 14:12,#FACEBOOK is the leading social marketing platform &gt;&gt;&gt; check out how to master #FACEBOOK http://hyperurl.co/bestpromo?b0y,0,0,0,,#FACEBOOK #FACEBOOK,/City2CityPR/status/970376555896569856,http://hyperurl.co/bestpromo?b0y,0,0,0,,,,,'</li>\n",
       "\t<li>'970376167495581696,970376167495581696,471756956,Kiriko999,0,2018-03-04 14:11,物価下落により実質利回りが上昇する。すなわち同額の利子でも、その実質的な価値が上昇するため、既に保有している資産の価値が上昇する。だから人はお金を貯蓄する。市場にお金が回らない。名目額が固定された収入を持つ者は得をする。 http://p.tl/u7pg #facebook,0,0,0,,#facebook,/Kiriko999/status/970376167495581696,http://p.tl/u7pg,0,0,0,,,,,'</li>\n",
       "\t<li>'970376161476915202,970376161476915202,126335344,LaAnet,0,2018-03-04 14:11,¿Por qué son tan populares las redes sociales? https://goo.gl/wccj8Z #Hotmail #dopamina #Facebook #LinkedIn #Popularidad #RedesSociales #Twitter @LaAnetpic.twitter.com/AXIUcQzhzy,0,0,0,LaAnet,#Hotmail #dopamina #Facebook #LinkedIn #Popularidad #RedesSociales #Twitter,/LaAnet/status/970376161476915202,https://goo.gl/wccj8Z,0,0,0,,,,,'</li>\n",
       "\t<li>'970376140509544450,970376140509544450,229562351,Admartdigital,0,2018-03-04 14:11,The latest The Instagram Daily! https://paper.li/e-1517253035?edition_id=cd0476b0-1fdf-11e8-aae6-0cc47a0d1609 … Thanks to @MWilliamsComm @TheTechViral @walshcreative #socialmedia #facebook,0,0,0,MWilliamsComm TheTechViral walshcreative,#socialmedia #facebook,/Admartdigital/status/970376140509544450,https://paper.li/e-1517253035?edition_id=cd0476b0-1fdf-11e8-aae6-0cc47a0d1609,0,0,0,,,,,'</li>\n",
       "\t<li>'Tweet ID, Conversation ID, Author Id , Author Name, isVerified, DateTime, Tweet Text, Replies, Retweets, Favorites, Mentions, Hashtags, Permalink, URLs, isPartOfConversation, isReply, isRetweet, Reply To User ID, Reply To User Name, Quoted Tweet ID, Quoted Tweet User Name, Quoted Tweet User ID'</li>\n",
       "</ol>\n"
      ],
      "text/latex": [
       "\\begin{enumerate*}\n",
       "\\item '970376555896569856,970376555896569856,519942441,City2CityPR,0,2018-03-04 14:12,\\#FACEBOOK is the leading social marketing platform >>> check out how to master \\#FACEBOOK http://hyperurl.co/bestpromo?b0y,0,0,0,,\\#FACEBOOK \\#FACEBOOK,/City2CityPR/status/970376555896569856,http://hyperurl.co/bestpromo?b0y,0,0,0,,,,,'\n",
       "\\item '970376167495581696,970376167495581696,471756956,Kiriko999,0,2018-03-04 14:11,物価下落により実質利回りが上昇する。すなわち同額の利子でも、その実質的な価値が上昇するため、既に保有している資産の価値が上昇する。だから人はお金を貯蓄する。市場にお金が回らない。名目額が固定された収入を持つ者は得をする。 http://p.tl/u7pg \\#facebook,0,0,0,,\\#facebook,/Kiriko999/status/970376167495581696,http://p.tl/u7pg,0,0,0,,,,,'\n",
       "\\item '970376161476915202,970376161476915202,126335344,LaAnet,0,2018-03-04 14:11,¿Por qué son tan populares las redes sociales? https://goo.gl/wccj8Z \\#Hotmail \\#dopamina \\#Facebook \\#LinkedIn \\#Popularidad \\#RedesSociales \\#Twitter @LaAnetpic.twitter.com/AXIUcQzhzy,0,0,0,LaAnet,\\#Hotmail \\#dopamina \\#Facebook \\#LinkedIn \\#Popularidad \\#RedesSociales \\#Twitter,/LaAnet/status/970376161476915202,https://goo.gl/wccj8Z,0,0,0,,,,,'\n",
       "\\item '970376140509544450,970376140509544450,229562351,Admartdigital,0,2018-03-04 14:11,The latest The Instagram Daily! https://paper.li/e-1517253035?edition\\_id=cd0476b0-1fdf-11e8-aae6-0cc47a0d1609 … Thanks to @MWilliamsComm @TheTechViral @walshcreative \\#socialmedia \\#facebook,0,0,0,MWilliamsComm TheTechViral walshcreative,\\#socialmedia \\#facebook,/Admartdigital/status/970376140509544450,https://paper.li/e-1517253035?edition\\_id=cd0476b0-1fdf-11e8-aae6-0cc47a0d1609,0,0,0,,,,,'\n",
       "\\item 'Tweet ID, Conversation ID, Author Id , Author Name, isVerified, DateTime, Tweet Text, Replies, Retweets, Favorites, Mentions, Hashtags, Permalink, URLs, isPartOfConversation, isReply, isRetweet, Reply To User ID, Reply To User Name, Quoted Tweet ID, Quoted Tweet User Name, Quoted Tweet User ID'\n",
       "\\end{enumerate*}\n"
      ],
      "text/markdown": [
       "1. '970376555896569856,970376555896569856,519942441,City2CityPR,0,2018-03-04 14:12,#FACEBOOK is the leading social marketing platform &gt;&gt;&gt; check out how to master #FACEBOOK http://hyperurl.co/bestpromo?b0y,0,0,0,,#FACEBOOK #FACEBOOK,/City2CityPR/status/970376555896569856,http://hyperurl.co/bestpromo?b0y,0,0,0,,,,,'\n",
       "2. '970376167495581696,970376167495581696,471756956,Kiriko999,0,2018-03-04 14:11,物価下落により実質利回りが上昇する。すなわち同額の利子でも、その実質的な価値が上昇するため、既に保有している資産の価値が上昇する。だから人はお金を貯蓄する。市場にお金が回らない。名目額が固定された収入を持つ者は得をする。 http://p.tl/u7pg #facebook,0,0,0,,#facebook,/Kiriko999/status/970376167495581696,http://p.tl/u7pg,0,0,0,,,,,'\n",
       "3. '970376161476915202,970376161476915202,126335344,LaAnet,0,2018-03-04 14:11,¿Por qué son tan populares las redes sociales? https://goo.gl/wccj8Z #Hotmail #dopamina #Facebook #LinkedIn #Popularidad #RedesSociales #Twitter @LaAnetpic.twitter.com/AXIUcQzhzy,0,0,0,LaAnet,#Hotmail #dopamina #Facebook #LinkedIn #Popularidad #RedesSociales #Twitter,/LaAnet/status/970376161476915202,https://goo.gl/wccj8Z,0,0,0,,,,,'\n",
       "4. '970376140509544450,970376140509544450,229562351,Admartdigital,0,2018-03-04 14:11,The latest The Instagram Daily! https://paper.li/e-1517253035?edition_id=cd0476b0-1fdf-11e8-aae6-0cc47a0d1609 … Thanks to @MWilliamsComm @TheTechViral @walshcreative #socialmedia #facebook,0,0,0,MWilliamsComm TheTechViral walshcreative,#socialmedia #facebook,/Admartdigital/status/970376140509544450,https://paper.li/e-1517253035?edition_id=cd0476b0-1fdf-11e8-aae6-0cc47a0d1609,0,0,0,,,,,'\n",
       "5. 'Tweet ID, Conversation ID, Author Id , Author Name, isVerified, DateTime, Tweet Text, Replies, Retweets, Favorites, Mentions, Hashtags, Permalink, URLs, isPartOfConversation, isReply, isRetweet, Reply To User ID, Reply To User Name, Quoted Tweet ID, Quoted Tweet User Name, Quoted Tweet User ID'\n",
       "\n",
       "\n"
      ],
      "text/plain": [
       "[1] \"970376555896569856,970376555896569856,519942441,City2CityPR,0,2018-03-04 14:12,#FACEBOOK is the leading social marketing platform >>> check out how to master #FACEBOOK http://hyperurl.co/bestpromo?b0y,0,0,0,,#FACEBOOK #FACEBOOK,/City2CityPR/status/970376555896569856,http://hyperurl.co/bestpromo?b0y,0,0,0,,,,,\"                                                                                                                                                               \n",
       "[2] \"970376167495581696,970376167495581696,471756956,Kiriko999,0,2018-03-04 14:11,物価下落により実質利回りが上昇する。すなわち同額の利子でも、その実質的な価値が上昇するため、既に保有している資産の価値が上昇する。だから人はお金を貯蓄する。市場にお金が回らない。名目額が固定された収入を持つ者は得をする。 http://p.tl/u7pg #facebook,0,0,0,,#facebook,/Kiriko999/status/970376167495581696,http://p.tl/u7pg,0,0,0,,,,,\"                                                               \n",
       "[3] \"970376161476915202,970376161476915202,126335344,LaAnet,0,2018-03-04 14:11,¿Por qué son tan populares las redes sociales? https://goo.gl/wccj8Z #Hotmail #dopamina #Facebook #LinkedIn #Popularidad #RedesSociales #Twitter @LaAnetpic.twitter.com/AXIUcQzhzy,0,0,0,LaAnet,#Hotmail #dopamina #Facebook #LinkedIn #Popularidad #RedesSociales #Twitter,/LaAnet/status/970376161476915202,https://goo.gl/wccj8Z,0,0,0,,,,,\"                                                             \n",
       "[4] \"970376140509544450,970376140509544450,229562351,Admartdigital,0,2018-03-04 14:11,The latest The Instagram Daily! https://paper.li/e-1517253035?edition_id=cd0476b0-1fdf-11e8-aae6-0cc47a0d1609 … Thanks to @MWilliamsComm @TheTechViral @walshcreative #socialmedia #facebook,0,0,0,MWilliamsComm TheTechViral walshcreative,#socialmedia #facebook,/Admartdigital/status/970376140509544450,https://paper.li/e-1517253035?edition_id=cd0476b0-1fdf-11e8-aae6-0cc47a0d1609,0,0,0,,,,,\"\n",
       "[5] \"Tweet ID, Conversation ID, Author Id , Author Name, isVerified, DateTime, Tweet Text, Replies, Retweets, Favorites, Mentions, Hashtags, Permalink, URLs, isPartOfConversation, isReply, isRetweet, Reply To User ID, Reply To User Name, Quoted Tweet ID, Quoted Tweet User Name, Quoted Tweet User ID\"                                                                                                                                                                               "
      ]
     },
     "metadata": {},
     "output_type": "display_data"
    }
   ],
   "source": [
    "system('tail -n 5 ../../data/facebook3March18to1Sep18/0_sorted.csv', intern = TRUE)"
   ]
  },
  {
   "cell_type": "code",
   "execution_count": null,
   "metadata": {},
   "outputs": [
    {
     "name": "stderr",
     "output_type": "stream",
     "text": [
      "Warning message in scan(file = file, what = what, sep = sep, quote = quote, dec = dec, :\n",
      "“EOF within quoted string”"
     ]
    }
   ],
   "source": [
    "tweets_df <- read.csv('../../data/facebook3March18to1Sep18/0_sorted.csv') \n",
    "head(tweets_df)"
   ]
  },
  {
   "cell_type": "code",
   "execution_count": null,
   "metadata": {},
   "outputs": [],
   "source": [
    "remove_reg <- \"&amp;|&lt;|&gt;\"\n",
    "#unnest_reg  <- \"([^A-Za-z_\\\\d#@']|'(?![A-Za-z_\\\\d#@]))\"\n",
    "\n",
    "tidy_tweets <- tweets_df %>% \n",
    "\n",
    "filter(!str_detect(Tweet.Text, \"^RT\")) %>%\n",
    "mutate(text = str_remove_all(Tweet.Text, remove_reg)) %>%\n",
    "\n",
    "unnest_tokens(word, text, token = \"tweets\") %>%\n",
    "mutate(word=wordStem(word, language = 'english')) %>%\n",
    "\n",
    "filter(!word %in% stop_words$word,\n",
    "     !word %in% str_remove_all(stop_words$word, \"'\"),\n",
    "     str_detect(word, \"[a-z]\"))"
   ]
  },
  {
   "cell_type": "code",
   "execution_count": null,
   "metadata": {},
   "outputs": [],
   "source": [
    "tidy_tweets$DateTime <- tidy_tweets$DateTime %>% as.Date(format = '%Y-%m-%d')\n",
    "str(tidy_tweets)"
   ]
  },
  {
   "cell_type": "code",
   "execution_count": null,
   "metadata": {},
   "outputs": [],
   "source": [
    "summary(tidy_tweets$DateTime)"
   ]
  },
  {
   "cell_type": "code",
   "execution_count": null,
   "metadata": {},
   "outputs": [],
   "source": [
    "tidy_tweets %>% count(DateTime) %>% \n",
    "ggplot() + aes(x=DateTime, y=n) + geom_line() +geom_point() + ylab('No of Tweets')\n"
   ]
  },
  {
   "cell_type": "markdown",
   "metadata": {},
   "source": [
    "Calculate frequency of words against each month"
   ]
  },
  {
   "cell_type": "code",
   "execution_count": null,
   "metadata": {},
   "outputs": [],
   "source": [
    "tidy_tweets_freq <- tidy_tweets %>% mutate(week = week(DateTime)) %>% group_by(week) %>% count(word, sort=TRUE) %>% \n",
    "left_join(tidy_tweets %>% mutate(week = week(DateTime)) %>% group_by(week) %>% summarize(total=n())) %>% \n",
    "mutate(freq = n/total) %>% select(week, word, freq, n, total)"
   ]
  },
  {
   "cell_type": "code",
   "execution_count": null,
   "metadata": {},
   "outputs": [],
   "source": [
    "tidy_tweets_freq %<>% arrange(desc(n))  %>% group_by(week) %>% top_n(freq, n=5) \n",
    "tidy_tweets_freq %>% arrange(week)"
   ]
  },
  {
   "cell_type": "markdown",
   "metadata": {},
   "source": [
    "Let's convert words to columns (dimensions)"
   ]
  },
  {
   "cell_type": "code",
   "execution_count": null,
   "metadata": {},
   "outputs": [],
   "source": [
    "tidy_tweets_plot <- tidy_tweets_freq %>% select(-n,-total) %>% spread(week, freq, fill = 0) "
   ]
  },
  {
   "cell_type": "code",
   "execution_count": null,
   "metadata": {},
   "outputs": [],
   "source": [
    "saveRDS(tidy_tweets_plot, file = 'tidy_tweets_per_week_facebook.rds')\n",
    "tidy_tweets_plot"
   ]
  },
  {
   "cell_type": "code",
   "execution_count": null,
   "metadata": {},
   "outputs": [],
   "source": [
    "tidy_tweets_plot %>% top_n(n = 1000) %>% ggplot() + aes('29','30') + geom_jitter() + geom_text(aes(label = word), check_overlap = TRUE, vjust = 0)"
   ]
  },
  {
   "cell_type": "code",
   "execution_count": null,
   "metadata": {},
   "outputs": [],
   "source": []
  },
  {
   "cell_type": "code",
   "execution_count": null,
   "metadata": {},
   "outputs": [],
   "source": []
  },
  {
   "cell_type": "code",
   "execution_count": null,
   "metadata": {},
   "outputs": [],
   "source": []
  },
  {
   "cell_type": "code",
   "execution_count": null,
   "metadata": {},
   "outputs": [],
   "source": []
  }
 ],
 "metadata": {
  "kernelspec": {
   "display_name": "R",
   "language": "R",
   "name": "ir"
  },
  "language_info": {
   "codemirror_mode": "r",
   "file_extension": ".r",
   "mimetype": "text/x-r-source",
   "name": "R",
   "pygments_lexer": "r",
   "version": "3.5.0"
  }
 },
 "nbformat": 4,
 "nbformat_minor": 2
}
