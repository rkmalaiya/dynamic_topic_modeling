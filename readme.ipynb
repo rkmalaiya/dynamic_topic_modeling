{
 "cells": [
  {
   "cell_type": "markdown",
   "metadata": {},
   "source": [
    "# Twitter Multi Variate Analysis"
   ]
  },
  {
   "cell_type": "markdown",
   "metadata": {},
   "source": [
    "## Information about Data\n",
    "Twitter feeds for 3 different streams, Ethereum, Bitcoin, Facebook for March and April 2018"
   ]
  },
  {
   "cell_type": "markdown",
   "metadata": {},
   "source": [
    "## Research Question "
   ]
  },
  {
   "cell_type": "markdown",
   "metadata": {},
   "source": [
    "***Does, otherwise uncorrelated twitter channels, tend to discuss on similar topics as a result of world level event?***"
   ]
  },
  {
   "cell_type": "markdown",
   "metadata": {},
   "source": [
    "## Methods"
   ]
  },
  {
   "cell_type": "markdown",
   "metadata": {},
   "source": [
    "### Correspondence Analysis\n",
    "* Contingency table: Count of words (Top 10) / Log of Count of Words (Top 50)\n",
    "    + Week 9 – 18\n",
    "    + Week 9, 16, 18\n",
    "    + Week 13, 14, 17\n",
    "    + Week 10, 11, 12, 15\n"
   ]
  },
  {
   "cell_type": "markdown",
   "metadata": {},
   "source": [
    "## Dataset"
   ]
  },
  {
   "cell_type": "markdown",
   "metadata": {},
   "source": [
    "![image1](data/images/image1.png)"
   ]
  },
  {
   "cell_type": "markdown",
   "metadata": {},
   "source": [
    "![image2](data/images/image1.png)"
   ]
  },
  {
   "cell_type": "markdown",
   "metadata": {},
   "source": [
    "![image3](data/images/image3.png)"
   ]
  },
  {
   "cell_type": "markdown",
   "metadata": {},
   "source": [
    "## Heatmap\n",
    "### Top 10\n",
    "![image13](data/images/image13.png)\n",
    "\n",
    "### Top 50\n",
    "![image13](data/images/image12.png)"
   ]
  },
  {
   "cell_type": "markdown",
   "metadata": {},
   "source": [
    "# Correspondence Analysis\n",
    "## Scree Plot\n",
    "### For Count of words"
   ]
  },
  {
   "cell_type": "markdown",
   "metadata": {},
   "source": [
    "![image4](data/images/image4.png)"
   ]
  },
  {
   "cell_type": "markdown",
   "metadata": {},
   "source": [
    "### For log of count of words"
   ]
  },
  {
   "cell_type": "markdown",
   "metadata": {},
   "source": [
    "![image5](data/images/image5.png)"
   ]
  },
  {
   "cell_type": "markdown",
   "metadata": {},
   "source": [
    "## Plotting word occurances vs week - *Top 10*\n",
    "![image32](data/images/image32.png)\n",
    "\n",
    "## Plotting word occurances vs weeks - *Top 10*\n",
    "![image34](data/images/image34.png)\n",
    "\n",
    "## Plotting word occurances vs week - *Top 50*\n",
    "![image42](data/images/image42.png)\n",
    "\n",
    "## Plotting word occurances vs weeks - *Top 50*\n",
    "![image44](data/images/image44.png)"
   ]
  },
  {
   "cell_type": "markdown",
   "metadata": {},
   "source": [
    "## Mapping word occurances vs week (Only means of each dataset)\n",
    "### For Count of words (Top 10)\n",
    "![image6](data/images/image6.png)"
   ]
  },
  {
   "cell_type": "markdown",
   "metadata": {},
   "source": [
    "### For log of count of words\n",
    "![image7](data/images/image7.png)"
   ]
  },
  {
   "cell_type": "markdown",
   "metadata": {},
   "source": [
    "## Dividing weeks into groups\n",
    "### For Count of words *(Top 10)*\n",
    "#### Week 9, 16, 18\n",
    "![image15](data/images/image15.png)\n",
    "#### Week 10, 11, 12, 15\n",
    "![image14](data/images/image14.png)\n",
    "#### Week 13, 14, 17\n",
    "![image16](data/images/image16.png)"
   ]
  },
  {
   "cell_type": "markdown",
   "metadata": {},
   "source": [
    "### For log of count of words *(Top 50)*\n",
    "#### Week 9, 16, 18\n",
    "![image21](data/images/image21.png)\n",
    "\n",
    "#### Week 10, 11, 12 ,15\n",
    "![image20](data/images/image20.png)\n",
    "\n",
    "#### Week 13, 14, 17\n",
    "![image22](data/images/image22.png)"
   ]
  },
  {
   "cell_type": "code",
   "execution_count": null,
   "metadata": {},
   "outputs": [],
   "source": []
  }
 ],
 "metadata": {
  "kernelspec": {
   "display_name": "Python 3",
   "language": "python",
   "name": "python3"
  },
  "language_info": {
   "codemirror_mode": {
    "name": "ipython",
    "version": 3
   },
   "file_extension": ".py",
   "mimetype": "text/x-python",
   "name": "python",
   "nbconvert_exporter": "python",
   "pygments_lexer": "ipython3",
   "version": "3.6.6"
  }
 },
 "nbformat": 4,
 "nbformat_minor": 2
}
